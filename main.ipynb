{
 "cells": [
  {
   "cell_type": "markdown",
   "metadata": {},
   "source": [
    "# Головна"
   ]
  },
  {
   "cell_type": "code",
   "execution_count": 1,
   "metadata": {
    "collapsed": true
   },
   "outputs": [],
   "source": [
    "from evaluation import *"
   ]
  },
  {
   "cell_type": "code",
   "execution_count": 2,
   "metadata": {
    "collapsed": true
   },
   "outputs": [],
   "source": [
    "def main():\n",
    "    id_user = int(input(\"Введіть id користувача: \"))\n",
    "    N = int(input(\"Введіть N: \"))\n",
    "    res = []\n",
    "    res.append(eval_acos(id_user,N))\n",
    "    res.append(eval_pcc(id_user,N))\n",
    "    res.append(eval_cpcc(id_user,N))\n",
    "    res.append(eval_jaccard(id_user,N))\n",
    "    \n",
    "    return res"
   ]
  },
  {
   "cell_type": "code",
   "execution_count": 3,
   "metadata": {
    "collapsed": false
   },
   "outputs": [
    {
     "name": "stdout",
     "output_type": "stream",
     "text": [
      "Введіть id користувача: 57\n",
      "Введіть N: 10\n"
     ]
    },
    {
     "name": "stderr",
     "output_type": "stream",
     "text": [
      "C:\\Users\\lyuba\\AppData\\Local\\Continuum\\Anaconda3\\lib\\site-packages\\numpy\\core\\_methods.py:59: RuntimeWarning: Mean of empty slice.\n",
      "  warnings.warn(\"Mean of empty slice.\", RuntimeWarning)\n",
      "C:\\Users\\lyuba\\AppData\\Local\\Continuum\\Anaconda3\\lib\\site-packages\\numpy\\core\\_methods.py:70: RuntimeWarning: invalid value encountered in double_scalars\n",
      "  ret = ret.dtype.type(ret / rcount)\n"
     ]
    }
   ],
   "source": [
    "res = main()"
   ]
  },
  {
   "cell_type": "code",
   "execution_count": 7,
   "metadata": {
    "collapsed": false
   },
   "outputs": [
    {
     "name": "stdout",
     "output_type": "stream",
     "text": [
      "Mean Average Error in ACOS metric:  [1.0876207729468601]\n",
      "Mean Average Error in PCC metric:  [0.82600398223737403]\n",
      "Mean Average Error in CPCC metric:  [0.77616109962201119]\n",
      "Mean Average Error in Jaccard metric:  [0.90786749482401652]\n"
     ]
    }
   ],
   "source": [
    "print(\"Mean Average Error in ACOS metric: \" , res[0])\n",
    "print(\"Mean Average Error in PCC metric: \", res[1])\n",
    "print(\"Mean Average Error in CPCC metric: \" ,res[2])\n",
    "print(\"Mean Average Error in Jaccard metric: \", res[3])"
   ]
  },
  {
   "cell_type": "code",
   "execution_count": null,
   "metadata": {
    "collapsed": true
   },
   "outputs": [],
   "source": []
  }
 ],
 "metadata": {
  "kernelspec": {
   "display_name": "Python 3",
   "language": "python",
   "name": "python3"
  },
  "language_info": {
   "codemirror_mode": {
    "name": "ipython",
    "version": 3
   },
   "file_extension": ".py",
   "mimetype": "text/x-python",
   "name": "python",
   "nbconvert_exporter": "python",
   "pygments_lexer": "ipython3",
   "version": "3.6.0"
  }
 },
 "nbformat": 4,
 "nbformat_minor": 2
}
