{
 "cells": [
  {
   "cell_type": "code",
   "execution_count": 14,
   "metadata": {
    "collapsed": true
   },
   "outputs": [],
   "source": [
    "import numpy as np\n",
    "import math\n",
    "import preprocess as pr\n",
    "\n",
    "M = pr.M\n",
    "M_test = pr.M_test\n",
    "all_users = pr.all_users\n",
    "all_movies = len(M[0])\n",
    "\n",
    "ratings = pr.ratings\n",
    "ratings_test = pr.ratings_test"
   ]
  },
  {
   "cell_type": "code",
   "execution_count": 18,
   "metadata": {
    "collapsed": false
   },
   "outputs": [],
   "source": [
    "def divide(matrix):\n",
    "    mL = []\n",
    "    mR = []\n",
    "    normCL = 0\n",
    "    normCR = 0\n",
    "    for index in range(len(matrix)):\n",
    "        rating = matrix[index]\n",
    "        for i in range(len(rating)):\n",
    "            tempCL = math.fabs(rating[i] - cL[i])\n",
    "            normCL += tempCL\n",
    "            tempCR = math.fabs(rating[i] - cR[i])\n",
    "            normCR += tempCR\n",
    "        if normCL > normCR:\n",
    "            mR.append(index)\n",
    "            # mR.append((index, rating))\n",
    "        else:\n",
    "            mL.append(index)\n",
    "            # mL.append((index, rating))\n",
    "        normCL = 0\n",
    "        normCR = 0\n",
    "    return(mL, mR)"
   ]
  },
  {
   "cell_type": "code",
   "execution_count": 27,
   "metadata": {
    "collapsed": true
   },
   "outputs": [],
   "source": [
    "def eval_w(tup):\n",
    "    \n",
    "    mL = tup[0]\n",
    "    mR = tup[1]\n",
    "    \n",
    "    wL = []\n",
    "    wR = []\n",
    "    \n",
    "    for i in mL:\n",
    "        wL.append(np.sum(mTr[i]) / len(mTr[i]))\n",
    "        \n",
    "    for i in mR:\n",
    "        wR.append(np.sum(mTr[i]) / len(mTr[i]))\n",
    "        \n",
    "    return (wL,wR)"
   ]
  },
  {
   "cell_type": "code",
   "execution_count": 21,
   "metadata": {
    "collapsed": false
   },
   "outputs": [
    {
     "data": {
      "text/plain": [
       "([0, 6, 9], [1, 2, 3, 4, 5, 7, 8])"
      ]
     },
     "execution_count": 21,
     "metadata": {},
     "output_type": "execute_result"
    }
   ],
   "source": [
    "divide(m)"
   ]
  },
  {
   "cell_type": "code",
   "execution_count": 20,
   "metadata": {
    "collapsed": false
   },
   "outputs": [],
   "source": [
    "all_users = 10\n",
    "\n",
    "m = M[0:all_users:1]\n",
    "mTr = np.transpose(m)\n",
    "\n",
    "# w - это средняя строка - каждый её элемент это среднее по столбцам\n",
    "w = []\n",
    "for i in mTr:\n",
    "    w.append(np.sum(np.asarray(i)) / len(i))\n",
    "\n",
    "# cL = m[4]\n",
    "cL= np.random.randint(0,5, size=(1,all_movies))[0]\n",
    "cR = np.asarray(w) - (np.asarray(cL) - np.asarray(w))"
   ]
  },
  {
   "cell_type": "code",
   "execution_count": 29,
   "metadata": {
    "collapsed": false
   },
   "outputs": [],
   "source": [
    "main_hash = []"
   ]
  },
  {
   "cell_type": "code",
   "execution_count": null,
   "metadata": {
    "collapsed": true
   },
   "outputs": [],
   "source": []
  },
  {
   "cell_type": "code",
   "execution_count": 30,
   "metadata": {
    "collapsed": true
   },
   "outputs": [],
   "source": [
    "def forming_matrix(tup_indexes):\n",
    "    left = tup_indexes[0]\n",
    "    right = tup_indexes[1]\n",
    "    \n",
    "    mL = []\n",
    "    mR = []\n",
    "    \n",
    "    for i in left:\n",
    "        mL.append(m[i])\n",
    "    for j in right\n",
    "        mR.append(m[j])\n",
    "    \n",
    "    return (mL, mR)"
   ]
  },
  {
   "cell_type": "code",
   "execution_count": null,
   "metadata": {
    "collapsed": true
   },
   "outputs": [],
   "source": [
    "matrix = m\n",
    "w = []\n",
    "for i in mTr:\n",
    "    w.append(np.sum(np.asarray(i)) / len(i))\n",
    "    \n",
    "wL = \n",
    "\n",
    "cL= np.random.randint(0,5, size=(1,all_movies))[0]\n",
    "cR = np.asarray(w) - (np.asarray(cL) - np.asarray(w))\n",
    "while (wL != cL and wR != cR):\n",
    "    \n",
    "    tup_matrix = divide(matrix)\n",
    "    tup_center = eval_w(tup_matrix)\n",
    "    \n",
    "    wL = tup_center[0]\n",
    "    wR = tup_center[1]\n",
    "    \n",
    "    main_hash.append(tup_matrix)\n",
    "        \n",
    "    matrix = tup_matrix\n",
    "    \n",
    "    cL = wL\n",
    "    cR = wR"
   ]
  },
  {
   "cell_type": "code",
   "execution_count": null,
   "metadata": {
    "collapsed": true
   },
   "outputs": [],
   "source": []
  },
  {
   "cell_type": "code",
   "execution_count": null,
   "metadata": {
    "collapsed": true
   },
   "outputs": [],
   "source": []
  }
 ],
 "metadata": {
  "kernelspec": {
   "display_name": "Python 3",
   "language": "python",
   "name": "python3"
  },
  "language_info": {
   "codemirror_mode": {
    "name": "ipython",
    "version": 3
   },
   "file_extension": ".py",
   "mimetype": "text/x-python",
   "name": "python",
   "nbconvert_exporter": "python",
   "pygments_lexer": "ipython3",
   "version": "3.6.0"
  }
 },
 "nbformat": 4,
 "nbformat_minor": 2
}
