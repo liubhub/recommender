{
 "cells": [
  {
   "cell_type": "code",
   "execution_count": 2,
   "metadata": {
    "collapsed": true
   },
   "outputs": [],
   "source": [
    "%matplotlib inline\n",
    "import sys\n",
    "import math\n",
    "import random\n",
    "import numpy as np\n",
    "import matplotlib.pyplot as plt\n",
    "from sklearn.datasets.samples_generator import make_blobs"
   ]
  },
  {
   "cell_type": "code",
   "execution_count": 3,
   "metadata": {
    "collapsed": true
   },
   "outputs": [],
   "source": [
    "# Compute Eucledian distance between two points given as vectors (lists)\n",
    "def dist(p1, p2):\n",
    "    s = 0\n",
    "    for i in range(len(p1)):\n",
    "        s += math.pow(p1[i] - p2[i], 2)\n",
    "    return math.sqrt(s)"
   ]
  },
  {
   "cell_type": "code",
   "execution_count": 4,
   "metadata": {
    "collapsed": true
   },
   "outputs": [],
   "source": [
    "def sse(points, clusters, centroids):\n",
    "    sse = 0\n",
    "    # TODO\n",
    "    return sse"
   ]
  },
  {
   "cell_type": "code",
   "execution_count": 11,
   "metadata": {
    "collapsed": true
   },
   "outputs": [],
   "source": [
    "def clustering(points, centroids):\n",
    "    clusters = []\n",
    "    for p in points:\n",
    "        # compute the distance to all cluster centroids and pick the minimum\n",
    "        min_d = sys.maxsize  # closest centroid distance\n",
    "        min_c = 0  # index of the closest centroid\n",
    "        for i in range(len(centroids)):\n",
    "            d = dist(p, centroids[i])\n",
    "            if d < min_d:\n",
    "                min_d = d\n",
    "                min_c = i\n",
    "        clusters.append(min_c)\n",
    "    return clusters"
   ]
  },
  {
   "cell_type": "code",
   "execution_count": 12,
   "metadata": {
    "collapsed": true
   },
   "outputs": [],
   "source": [
    "def get_centroids(points, clusters):\n",
    "    cp = get_clusters_points(points, clusters)\n",
    "    centroids = []\n",
    "    for points in cp:\n",
    "        centroids.append(np.average(points, axis=0).tolist())  # use numpy's averaging\n",
    "    return centroids"
   ]
  },
  {
   "cell_type": "code",
   "execution_count": 13,
   "metadata": {
    "collapsed": true
   },
   "outputs": [],
   "source": [
    "def get_clusters_points(points, clusters):\n",
    "    cpoints = [[] for i in range(max(clusters) + 1)]  # init list of lists\n",
    "    for i in range(len(points)):\n",
    "        c = clusters[i]  # cluster index\n",
    "        cpoints[c].append(points[i])\n",
    "    return cpoints"
   ]
  },
  {
   "cell_type": "code",
   "execution_count": 23,
   "metadata": {
    "collapsed": true
   },
   "outputs": [],
   "source": [
    "def kmeans(k, points):\n",
    "    # Select K points as initial centroids\n",
    "    centroids = []\n",
    "    for i in range(k):\n",
    "        j = random.randint(0, len(points) - 1)\n",
    "        centroids.append(points[j])\n",
    "\n",
    "    # The `clusters` list holds the cluster assignment (0..k-1) for each data point\n",
    "    clusters = [0] * len(points)  # assign all points to one cluster\n",
    "    changed = len(points)\n",
    "\n",
    "    # Repeat until the cluster assignments change for less than 1% of the data points\n",
    "    iter = 0\n",
    "    while changed > len(points)*0.01:\n",
    "        iter += 1  # Count iterarions\n",
    "        clusters_old = list(clusters)  # save \"old\" cluster assignments\n",
    "\n",
    "        # Form K clusters by assigning each point to its closest centroid\n",
    "        clusters = clustering(points, centroids)\n",
    "\n",
    "        # Recompute the centroid of each cluster\n",
    "        centroids = get_centroids(points, clusters)\n",
    "\n",
    "        # Count how many points have changed clusters\n",
    "        changed = 0\n",
    "        for i in range(len(clusters)):\n",
    "            if clusters[i] != clusters_old[i]:\n",
    "                changed += 1\n",
    "\n",
    "    # Return both the cluster assignments, the centroids, and the total SSE for the clustering\n",
    "    # sum_sse = sum(sse(points, clusters, centroids))\n",
    "    return {'clusters': clusters, 'centroids': centroids}#, 'sse': sum_sse}"
   ]
  },
  {
   "cell_type": "code",
   "execution_count": 24,
   "metadata": {
    "collapsed": true
   },
   "outputs": [],
   "source": [
    "def bikmeans(k, points):\n",
    "    # Initial cluster contains all data points\n",
    "    clusters = [0] * len(points)\n",
    "    centroids = get_centroids(points, clusters)\n",
    "\n",
    "    # Repeat until we have K clusters\n",
    "    while max(clusters) + 1 < k:\n",
    "        # Select a cluster to split -- it'll be the cluster with the highest SSE        \n",
    "        max_cluster = 0  # this holds the id of the cluster that will be split\n",
    "        # TODO\n",
    "\n",
    "        # Extract the points that belong the the cluster that'll be split\n",
    "        points2 = []\n",
    "        points2_idx = []  # keep track of the original indices of these points\n",
    "        for idx, x in enumerate(points):\n",
    "            if clusters[idx] == max_cluster:\n",
    "                points2.append(x)\n",
    "                points2_idx.append(idx)\n",
    "\n",
    "        # For a fixed number of trials (=10)\n",
    "        min_sse = sys.maxsize\n",
    "        min_clustering = []\n",
    "        for i in range(10):\n",
    "            # Bisect the selected cluster using basic K-means\n",
    "            km = kmeans(2, points2)\n",
    "            if km['sse'] < min_sse:  # Keep track of the clustering with the minimal SSE\n",
    "                min_sse = km['sse']\n",
    "                min_clustering = km['clusters']\n",
    "\n",
    "        # Reassing the points from the largest cluster based on K-means\n",
    "        newid = max(clusters) + 1\n",
    "        for i, idx in enumerate(points2_idx):\n",
    "            # min_clustering[i] : cluster assigned to the point by K-means (0/1)\n",
    "            # clusters[idx] : original cluster assignment of the point (== max_cluster for the points that are clustered in this iteration)\n",
    "            if clusters[idx] != min_clustering[i] + max_cluster:  # points that move to a new cluster\n",
    "                clusters[idx] = newid\n",
    "\n",
    "        # Update centroids\n",
    "        centroids = get_centroids(points, clusters)\n",
    "\n",
    "        # Visualize the cluster assignments and centroids\n",
    "        plt.clf()\n",
    "        plt.title(str(max(clusters) + 1) + \" clusters\")\n",
    "        plt.scatter([x[0] for x in points], [x[1] for x in points], c=clusters, marker='o', s=50)\n",
    "        plt.scatter([x[0] for x in centroids], [x[1] for x in centroids], c=range(max(clusters) + 1), marker=\"+\", s=250)\n",
    "        plt.show()\n",
    "\n",
    "    # Return both the cluster assignments, the centroids, and the total SSE for the clustering\n",
    "    sum_sse = sum(sse(points, clusters, centroids))\n",
    "    return {'clusters': clusters, 'centroids': centroids, 'sse': sum_sse}"
   ]
  },
  {
   "cell_type": "code",
   "execution_count": 5,
   "metadata": {
    "collapsed": true
   },
   "outputs": [],
   "source": [
    "N = 300\n",
    "points, clusters = make_blobs(n_samples=N, centers=5, n_features=2, cluster_std=0.8, random_state=0)\n",
    "#points = np.array(points).tolist()  # convert to numpy array to python list\n",
    "#clusters = np.array(clusters).tolist()  # convert to numpy array to python list"
   ]
  },
  {
   "cell_type": "code",
   "execution_count": 6,
   "metadata": {
    "collapsed": false
   },
   "outputs": [
    {
     "data": {
      "text/plain": [
       "numpy.ndarray"
      ]
     },
     "execution_count": 6,
     "metadata": {},
     "output_type": "execute_result"
    }
   ],
   "source": [
    "type(points)"
   ]
  },
  {
   "cell_type": "code",
   "execution_count": 7,
   "metadata": {
    "collapsed": false
   },
   "outputs": [
    {
     "data": {
      "text/plain": [
       "array([[ 10.15348268,  -1.29275205],\n",
       "       [ -0.34538052,   8.23226077],\n",
       "       [  0.42061579,   4.1840797 ],\n",
       "       [  8.19491487,  -2.94042833],\n",
       "       [ -1.13191059,   2.82499911],\n",
       "       [ -1.57620513,   2.83203804],\n",
       "       [  1.13032158,   1.52262214],\n",
       "       [  1.88779063,   3.31592667],\n",
       "       [  3.25085516,  -0.75832436],\n",
       "       [ -1.02390241,   7.04096113],\n",
       "       [  9.09762239,  -3.19839892],\n",
       "       [  8.24950387,  -2.79951459],\n",
       "       [  2.17153334,   4.13966072],\n",
       "       [ -0.88232329,   7.0637704 ],\n",
       "       [ -1.28481894,   8.01186614],\n",
       "       [  0.72702805,   4.3487196 ],\n",
       "       [  0.26604148,   2.71915015],\n",
       "       [  2.02384127,  -0.03681114],\n",
       "       [  9.44403925,  -3.29802855],\n",
       "       [ -2.93161648,   3.27862983],\n",
       "       [  2.00067424,   2.26833784],\n",
       "       [ -0.92915335,   1.9667263 ],\n",
       "       [  1.14289006,   5.08509856],\n",
       "       [ 10.21835809,  -2.83669263],\n",
       "       [ -0.96813829,   2.92089897],\n",
       "       [  1.66781904,   3.71005531],\n",
       "       [ -1.77561295,   2.99580239],\n",
       "       [  2.51654017,   0.73102466],\n",
       "       [ -0.63492523,   8.12049427],\n",
       "       [ -1.63386526,   3.78007731],\n",
       "       [  1.22787325,   1.44293927],\n",
       "       [  8.03291173,  -1.99731457],\n",
       "       [  1.22672424,   3.62051074],\n",
       "       [  9.28015753,  -1.90956626],\n",
       "       [  7.92828064,  -3.04234671],\n",
       "       [ -2.01665928,   7.20096613],\n",
       "       [  2.81480417,   0.96770465],\n",
       "       [  0.14284237,   8.63097553],\n",
       "       [ -1.62143525,   2.3737397 ],\n",
       "       [  1.46361712,   2.13207534],\n",
       "       [  0.9537243 ,   4.64645282],\n",
       "       [ -3.00135965,   2.53550306],\n",
       "       [  0.56854833,   3.95332789],\n",
       "       [  1.46753357,   5.04155266],\n",
       "       [  8.95934401,  -4.76808407],\n",
       "       [ -0.97504948,   3.95935924],\n",
       "       [  2.67269996,   1.55646698],\n",
       "       [ -1.41334148,   2.66241953],\n",
       "       [  9.40439807,  -2.25411254],\n",
       "       [ -2.36310671,   3.88679849],\n",
       "       [ -2.09066423,   3.67249084],\n",
       "       [  0.91601879,   0.50300775],\n",
       "       [ -2.08054389,   4.1469839 ],\n",
       "       [ -2.47799142,   2.51242918],\n",
       "       [  9.09517067,  -3.061633  ],\n",
       "       [ -1.63566377,   3.82739535],\n",
       "       [  3.00569136,   1.15121775],\n",
       "       [ -1.39629871,   7.18934123],\n",
       "       [ -1.41377872,   8.53960315],\n",
       "       [  8.32992887,  -1.29002717],\n",
       "       [ -1.61533654,   3.73402043],\n",
       "       [  1.54659066,   1.4388103 ],\n",
       "       [ -1.06408682,   3.19760583],\n",
       "       [ -1.49554733,   7.64868669],\n",
       "       [ -1.56443896,   6.9079236 ],\n",
       "       [  8.20748589,  -3.90606938],\n",
       "       [  9.42931097,  -3.75641991],\n",
       "       [ -1.21735133,   6.51008793],\n",
       "       [ -2.59431079,   1.84050826],\n",
       "       [ 10.02264918,  -1.20130746],\n",
       "       [ -0.97188549,   2.79022351],\n",
       "       [  2.37207289,   0.02321445],\n",
       "       [  9.09969555,  -1.97485502],\n",
       "       [ 10.88226056,  -2.36684596],\n",
       "       [ 11.43023445,  -2.39030936],\n",
       "       [  9.55706136,  -1.83766038],\n",
       "       [  9.30285979,  -1.7168477 ],\n",
       "       [ -0.95159577,   7.94910946],\n",
       "       [  0.9846701 ,   5.73248372],\n",
       "       [  2.68432989,   0.52452838],\n",
       "       [ -1.4687922 ,   7.26767764],\n",
       "       [ -0.79442355,   7.65731994],\n",
       "       [  0.43830172,   4.0161448 ],\n",
       "       [  8.69001948,  -2.1739237 ],\n",
       "       [  7.37758569,  -1.63992778],\n",
       "       [ -0.57495076,   7.63589315],\n",
       "       [  1.45946366,   0.23651283],\n",
       "       [  2.56737274,  -0.39590118],\n",
       "       [  1.00254159,   0.52839598],\n",
       "       [ -2.42836466,   2.33334006],\n",
       "       [ -2.92393823,   7.93443755],\n",
       "       [  1.9765055 ,   0.36688103],\n",
       "       [  1.77207239,  -0.20229737],\n",
       "       [  9.67220743,  -1.4927919 ],\n",
       "       [ -0.43527853,   2.36632291],\n",
       "       [ -0.54758957,   7.74337404],\n",
       "       [ -1.06612177,   4.8266822 ],\n",
       "       [ -0.56191664,   8.74834151],\n",
       "       [ -1.62334713,   6.07430699],\n",
       "       [  0.64537489,   3.70582348],\n",
       "       [  9.70790472,  -1.97993526],\n",
       "       [ -0.97367301,   3.47368158],\n",
       "       [  2.55545268,  -0.38398246],\n",
       "       [ -0.19294627,   7.12952496],\n",
       "       [  0.82262991,   0.94827326],\n",
       "       [  2.48279064,   3.22558008],\n",
       "       [ -1.83480786,   2.99336353],\n",
       "       [  2.03580662,   0.30723893],\n",
       "       [  1.2774105 ,   3.42426669],\n",
       "       [ -2.13821915,   1.76764908],\n",
       "       [  1.07779975,   4.62537882],\n",
       "       [ -2.40548353,   8.47569838],\n",
       "       [ -1.56064117,   2.68837251],\n",
       "       [  1.69084152,   0.91164699],\n",
       "       [  9.18486369,  -3.65972947],\n",
       "       [  2.9349952 ,   1.42187464],\n",
       "       [ -0.04011792,   5.07930469],\n",
       "       [  8.74641284,  -2.7425568 ],\n",
       "       [ -3.07592786,   3.06890514],\n",
       "       [  1.02098199,   1.11130436],\n",
       "       [  0.76186738,   4.94575244],\n",
       "       [ -1.48172566,   7.22626625],\n",
       "       [  8.14848488,  -2.80321574],\n",
       "       [ -1.53100117,   6.54228066],\n",
       "       [  8.52913001,  -2.4740409 ],\n",
       "       [  0.31622934,   2.0698696 ],\n",
       "       [ -2.00395524,   2.87582842],\n",
       "       [  3.86271468,   0.86385794],\n",
       "       [  1.94896306,   0.65943096],\n",
       "       [ -0.7336042 ,   6.57896129],\n",
       "       [  2.18047275,   1.08340849],\n",
       "       [ -0.0749928 ,   8.51750157],\n",
       "       [ 10.25315166,  -2.27928474],\n",
       "       [  0.13792117,   8.3830609 ],\n",
       "       [ -1.20865979,   8.23052944],\n",
       "       [  1.17176085,   0.93939572],\n",
       "       [ 10.13581305,  -4.37851736],\n",
       "       [  9.11093774,  -2.41907585],\n",
       "       [ -3.6542418 ,   3.40293788],\n",
       "       [ 10.15033269,  -2.51854226],\n",
       "       [  1.11821099,   3.98236258],\n",
       "       [  8.73083458,  -1.29289299],\n",
       "       [  9.06393885,  -2.47696545],\n",
       "       [ -1.91062866,   3.4141689 ],\n",
       "       [  2.16687183,   5.82049867],\n",
       "       [ -0.90830163,   1.97077775],\n",
       "       [  1.91929374,   4.15984746],\n",
       "       [ -1.81865885,   3.04324535],\n",
       "       [ -1.35234134,   7.9106226 ],\n",
       "       [  0.25989683,   4.61330933],\n",
       "       [  7.48157196,  -2.00997038],\n",
       "       [ -1.08881562,   7.79497718],\n",
       "       [  9.50067895,  -0.9370346 ],\n",
       "       [  1.02948386,   4.54576485],\n",
       "       [ 10.02722971,  -2.54524542],\n",
       "       [ -0.3148482 ,   4.1335951 ],\n",
       "       [ -1.11005211,   2.45725189],\n",
       "       [ -1.31700039,   7.99089437],\n",
       "       [  8.8972289 ,  -2.5045548 ],\n",
       "       [ -1.65050914,   9.76542296],\n",
       "       [ -1.20766694,   0.69980806],\n",
       "       [  1.2613632 ,   4.86904586],\n",
       "       [ -2.66308654,   8.11984545],\n",
       "       [ -0.02596621,   4.92577961],\n",
       "       [  0.13742771,   3.16777298],\n",
       "       [ -1.29782906,   3.40495733],\n",
       "       [  1.73407165,   4.17977925],\n",
       "       [  7.96714759,  -3.5853838 ],\n",
       "       [ -0.55308499,   8.05695754],\n",
       "       [  0.03777135,   5.85868428],\n",
       "       [  1.41253979,   0.34602384],\n",
       "       [  0.86226145,   1.24917702],\n",
       "       [ -0.3278886 ,   4.67401313],\n",
       "       [  9.168412  ,  -1.42470572],\n",
       "       [  1.68439074,   1.28284884],\n",
       "       [  1.10022802,   4.60631734],\n",
       "       [ -2.86138108,   7.40389631],\n",
       "       [ -2.03666436,   6.65799201],\n",
       "       [ -2.02937406,   2.53306057],\n",
       "       [  1.5453179 ,   0.57984621],\n",
       "       [  0.32575305,   2.92276125],\n",
       "       [ -1.5394497 ,   3.0466248 ],\n",
       "       [  1.07491911,   1.57315404],\n",
       "       [  0.11966798,   5.14734871],\n",
       "       [ -1.65303763,   4.72326106],\n",
       "       [ -1.8743591 ,   7.74714858],\n",
       "       [  2.18860632,   1.40568881],\n",
       "       [  1.33136066,   4.57072679],\n",
       "       [  1.58510026,   4.40112734],\n",
       "       [  1.96050262,   5.26569121],\n",
       "       [ -2.10738192,   1.8111911 ],\n",
       "       [  8.36141325,  -1.70320361],\n",
       "       [ -0.38874607,   5.86440764],\n",
       "       [ -2.09195855,   8.49165829],\n",
       "       [  0.4688124 ,   4.01359439],\n",
       "       [  0.62814724,   5.78319831],\n",
       "       [  0.07025217,   7.96684222],\n",
       "       [ -2.45278822,   2.66804846],\n",
       "       [ -1.70370542,   8.0513835 ],\n",
       "       [  1.1372926 ,   0.54740762],\n",
       "       [ -1.87964212,   2.69359787],\n",
       "       [  9.36537351,  -2.63448767],\n",
       "       [  1.21486062,   5.36489604],\n",
       "       [ -0.4938189 ,   5.64371828],\n",
       "       [  2.97713277,   1.76135853],\n",
       "       [ -0.59098721,   7.83969413],\n",
       "       [  0.27963236,   3.8407076 ],\n",
       "       [  9.5546793 ,  -2.0277812 ],\n",
       "       [ -2.10258752,   2.26748787],\n",
       "       [ -0.60780393,   7.89806816],\n",
       "       [  3.96178334,   1.65324725],\n",
       "       [  8.628754  ,  -3.22581916],\n",
       "       [  1.43933466,   1.32906301],\n",
       "       [ -1.74109084,   2.0154732 ],\n",
       "       [  0.25043139,   4.34534364],\n",
       "       [  0.66640862,   4.06194513],\n",
       "       [ -0.55817897,   5.71096474],\n",
       "       [ -2.04873889,   2.50093081],\n",
       "       [ -2.0771741 ,   1.94662034],\n",
       "       [ -0.99379755,   2.54930643],\n",
       "       [  2.39627451,   1.43919009],\n",
       "       [  1.55954253,   4.40697366],\n",
       "       [  8.45882171,  -2.39345343],\n",
       "       [  1.29971052,   0.56962391],\n",
       "       [  2.2792072 ,   0.81914335],\n",
       "       [ -2.07411273,   4.2455229 ],\n",
       "       [ -2.79325473,   3.40618576],\n",
       "       [ -0.59663992,   7.88260049],\n",
       "       [  0.69794036,   4.4288665 ],\n",
       "       [ -1.97526637,   7.49600592],\n",
       "       [ -1.66227101,   7.05239613],\n",
       "       [  2.47031725,   5.02862305],\n",
       "       [  2.20249345,   5.47927434],\n",
       "       [  9.98946343,  -1.23119837],\n",
       "       [  2.5146237 ,   5.48819916],\n",
       "       [ -1.10779119,   2.98861993],\n",
       "       [ -0.78142531,   3.18985425],\n",
       "       [  0.04415021,   5.02444852],\n",
       "       [  8.74521015,  -2.19051446],\n",
       "       [  1.80805715,  -0.44313939],\n",
       "       [ -0.97713247,   9.45229486],\n",
       "       [  9.46694958,  -3.04214583],\n",
       "       [ -1.62173221,   6.70193513],\n",
       "       [  2.79195458,   1.15264578],\n",
       "       [  1.34880003,   3.07479238],\n",
       "       [  1.29051152,   0.62087824],\n",
       "       [  8.82980751,  -2.70767975],\n",
       "       [  8.51776042,  -2.14068711],\n",
       "       [ -3.07915181,   8.03664755],\n",
       "       [  9.63628074,  -3.79496195],\n",
       "       [ -2.60674043,   8.1452844 ],\n",
       "       [ -0.03225989,   9.21113146],\n",
       "       [ -0.03759331,   8.27796567],\n",
       "       [  1.32500974,   1.79127669],\n",
       "       [ -1.67942681,   2.60200265],\n",
       "       [  2.04165119,   1.20098505],\n",
       "       [  1.51580139,   0.92312811],\n",
       "       [ -0.67209649,   2.55517362],\n",
       "       [ -0.50465169,   8.30123969],\n",
       "       [  2.47388885,   0.76042659],\n",
       "       [  1.57741467,   0.70732628],\n",
       "       [  8.96553887,  -2.6862385 ],\n",
       "       [  1.09150494,   5.46720613],\n",
       "       [  0.65372852,   5.28174338],\n",
       "       [ -0.87775151,   8.05873663],\n",
       "       [  1.65684156,   2.4412893 ],\n",
       "       [ -0.63113102,   8.65901108],\n",
       "       [ -2.02513943,   8.08731378],\n",
       "       [  2.79207378,   3.14029479],\n",
       "       [  8.99529469,  -2.7961844 ],\n",
       "       [  1.51410588,   4.6297568 ],\n",
       "       [ -1.84646324,   3.21392697],\n",
       "       [  1.62097834,   1.2305037 ],\n",
       "       [ -3.05270716,   7.01745454],\n",
       "       [ -1.30729093,   2.20515019],\n",
       "       [  1.01287689,   4.15404025],\n",
       "       [  1.75992205,   0.70616032],\n",
       "       [  1.5403728 ,  -0.88105886],\n",
       "       [  1.25509524,  -0.33815322],\n",
       "       [  0.28728953,   5.83183929],\n",
       "       [  9.74515907,  -2.62225667],\n",
       "       [  9.57944115,  -2.35856345],\n",
       "       [  1.40457611,  -0.2754758 ],\n",
       "       [  2.74073201,   0.37684319],\n",
       "       [  1.29814339,   3.75593925],\n",
       "       [ -3.15145159,   4.56947655],\n",
       "       [  2.78341065,   1.15143823],\n",
       "       [ -2.04883088,   2.60511956],\n",
       "       [ -1.59960739,   7.98053076],\n",
       "       [ -1.72717892,   6.94274243],\n",
       "       [  7.71181193,  -2.85908301],\n",
       "       [  2.95657626,   0.03371845],\n",
       "       [  0.03782583,   3.22995692],\n",
       "       [ -2.57212549,   4.24438681],\n",
       "       [  9.07963935,  -1.11656069],\n",
       "       [  7.38191616,  -2.31490228],\n",
       "       [  8.44930698,  -2.61112432],\n",
       "       [ -1.44872404,   3.38424521],\n",
       "       [  3.78585628,   1.96688602],\n",
       "       [  0.56762597,   3.35928158]])"
      ]
     },
     "execution_count": 7,
     "metadata": {},
     "output_type": "execute_result"
    }
   ],
   "source": [
    "points"
   ]
  },
  {
   "cell_type": "code",
   "execution_count": null,
   "metadata": {
    "collapsed": true
   },
   "outputs": [],
   "source": []
  },
  {
   "cell_type": "code",
   "execution_count": null,
   "metadata": {
    "collapsed": true
   },
   "outputs": [],
   "source": []
  },
  {
   "cell_type": "code",
   "execution_count": 16,
   "metadata": {
    "collapsed": false
   },
   "outputs": [
    {
     "data": {
      "text/plain": [
       "2147483647"
      ]
     },
     "execution_count": 16,
     "metadata": {},
     "output_type": "execute_result"
    }
   ],
   "source": [
    "sys.maxsize"
   ]
  },
  {
   "cell_type": "code",
   "execution_count": 26,
   "metadata": {
    "collapsed": false
   },
   "outputs": [
    {
     "ename": "KeyError",
     "evalue": "'sse'",
     "output_type": "error",
     "traceback": [
      "\u001b[0;31m---------------------------------------------------------------------------\u001b[0m",
      "\u001b[0;31mKeyError\u001b[0m                                  Traceback (most recent call last)",
      "\u001b[0;32m<ipython-input-26-29744c9aecc6>\u001b[0m in \u001b[0;36m<module>\u001b[0;34m()\u001b[0m\n\u001b[0;32m----> 1\u001b[0;31m \u001b[0mbkm\u001b[0m \u001b[1;33m=\u001b[0m \u001b[0mbikmeans\u001b[0m\u001b[1;33m(\u001b[0m\u001b[1;36m5\u001b[0m\u001b[1;33m,\u001b[0m \u001b[0mpoints\u001b[0m\u001b[1;33m)\u001b[0m\u001b[1;33m\u001b[0m\u001b[0m\n\u001b[0m",
      "\u001b[0;32m<ipython-input-24-222fdb1ef029>\u001b[0m in \u001b[0;36mbikmeans\u001b[0;34m(k, points)\u001b[0m\n\u001b[1;32m     24\u001b[0m             \u001b[1;31m# Bisect the selected cluster using basic K-means\u001b[0m\u001b[1;33m\u001b[0m\u001b[1;33m\u001b[0m\u001b[0m\n\u001b[1;32m     25\u001b[0m             \u001b[0mkm\u001b[0m \u001b[1;33m=\u001b[0m \u001b[0mkmeans\u001b[0m\u001b[1;33m(\u001b[0m\u001b[1;36m2\u001b[0m\u001b[1;33m,\u001b[0m \u001b[0mpoints2\u001b[0m\u001b[1;33m)\u001b[0m\u001b[1;33m\u001b[0m\u001b[0m\n\u001b[0;32m---> 26\u001b[0;31m             \u001b[1;32mif\u001b[0m \u001b[0mkm\u001b[0m\u001b[1;33m[\u001b[0m\u001b[1;34m'sse'\u001b[0m\u001b[1;33m]\u001b[0m \u001b[1;33m<\u001b[0m \u001b[0mmin_sse\u001b[0m\u001b[1;33m:\u001b[0m  \u001b[1;31m# Keep track of the clustering with the minimal SSE\u001b[0m\u001b[1;33m\u001b[0m\u001b[0m\n\u001b[0m\u001b[1;32m     27\u001b[0m                 \u001b[0mmin_sse\u001b[0m \u001b[1;33m=\u001b[0m \u001b[0mkm\u001b[0m\u001b[1;33m[\u001b[0m\u001b[1;34m'sse'\u001b[0m\u001b[1;33m]\u001b[0m\u001b[1;33m\u001b[0m\u001b[0m\n\u001b[1;32m     28\u001b[0m                 \u001b[0mmin_clustering\u001b[0m \u001b[1;33m=\u001b[0m \u001b[0mkm\u001b[0m\u001b[1;33m[\u001b[0m\u001b[1;34m'clusters'\u001b[0m\u001b[1;33m]\u001b[0m\u001b[1;33m\u001b[0m\u001b[0m\n",
      "\u001b[0;31mKeyError\u001b[0m: 'sse'"
     ]
    }
   ],
   "source": [
    "bkm = bikmeans(5, points)"
   ]
  },
  {
   "cell_type": "code",
   "execution_count": null,
   "metadata": {
    "collapsed": true
   },
   "outputs": [],
   "source": []
  }
 ],
 "metadata": {
  "kernelspec": {
   "display_name": "Python 3",
   "language": "python",
   "name": "python3"
  },
  "language_info": {
   "codemirror_mode": {
    "name": "ipython",
    "version": 3
   },
   "file_extension": ".py",
   "mimetype": "text/x-python",
   "name": "python",
   "nbconvert_exporter": "python",
   "pygments_lexer": "ipython3",
   "version": "3.6.0"
  }
 },
 "nbformat": 4,
 "nbformat_minor": 2
}
