{
 "cells": [
  {
   "cell_type": "code",
   "execution_count": 24,
   "metadata": {
    "collapsed": true
   },
   "outputs": [],
   "source": [
    "import math\n",
    "import numpy as np\n",
    "import preprocess as pr\n",
    "from numpy import linalg\n",
    "import warnings\n",
    "M = pr.M\n",
    "M_test = pr.M_test\n",
    "all_users = pr.all_users\n",
    "all_movies = len(M[0])\n",
    "\n",
    "min_rating = 0\n",
    "max_rating = 5"
   ]
  },
  {
   "cell_type": "code",
   "execution_count": 25,
   "metadata": {
    "collapsed": true
   },
   "outputs": [],
   "source": [
    "# Евклидово расстояние между двумя точками (которые массивы)\n",
    "def dist(p1, p2):\n",
    "    s = 0\n",
    "    for i in range(len(p1)):\n",
    "        s += math.pow(p1[i] - p2[i], 2)\n",
    "    return math.sqrt(s)"
   ]
  },
  {
   "cell_type": "code",
   "execution_count": 94,
   "metadata": {
    "collapsed": true
   },
   "outputs": [],
   "source": [
    "eps = 0.0001\n",
    "all_users = 10\n",
    "m = M[:all_users]\n",
    "mTr = np.transpose(m)\n",
    "indexes = np.arange(all_users)\n",
    "\n",
    "K = 3"
   ]
  },
  {
   "cell_type": "code",
   "execution_count": 95,
   "metadata": {
    "collapsed": false
   },
   "outputs": [],
   "source": [
    "# m = [[1,1],[1,0],[0,2],[2,4],[3,5],[4,2]]\n",
    "# all_users = 2"
   ]
  },
  {
   "cell_type": "code",
   "execution_count": 96,
   "metadata": {
    "collapsed": false,
    "scrolled": true
   },
   "outputs": [
    {
     "name": "stdout",
     "output_type": "stream",
     "text": [
      "Iteration №  0\n",
      "--------------------------------------------------\n",
      "--------------------------------------------------\n",
      "Clusters:  ([0, 1, 2, 3, 4, 5, 6, 7, 8, 9], [6], [0, 1, 2, 3, 4, 5, 7, 8, 9])\n",
      "--------------------------------------------------\n",
      "Iteration №  1\n",
      "--------------------------------------------------\n",
      "--------------------------------------------------\n",
      "Clusters:  ([0, 1, 2, 3, 4, 5, 7, 8, 9], [6, 6], [0, 1, 2, 3, 4, 5, 7, 8, 9])\n",
      "--------------------------------------------------\n",
      "Iteration №  2\n",
      "--------------------------------------------------\n",
      "--------------------------------------------------\n",
      "Clusters:  ([0, 1, 2, 3, 4, 5, 7, 8, 9], [6, 6], [0, 1, 2, 3, 4, 5, 7, 8, 9])\n",
      "--------------------------------------------------\n"
     ]
    }
   ],
   "source": [
    "i = 0\n",
    "centroids = [np.zeros((K, all_movies)).tolist()]\n",
    "random_centroid = (np.random.randint(min_rating, max_rating + 1, size=(K, all_movies))).tolist()\n",
    "centroids.append(random_centroid)\n",
    "with warnings.catch_warnings():\n",
    "    warnings.simplefilter(\"ignore\", category=RuntimeWarning)\n",
    "    while linalg.norm(np.asarray(centroids[i]) - np.asarray(centroids[i + 1])) >= eps:\n",
    "        print(\"Iteration № \", i)\n",
    "        print(\"--------------------------------------------------\")\n",
    "        res = []\n",
    "    \n",
    "        for index in indexes:\n",
    "            distances = []\n",
    "            for k in range(K):\n",
    "                distances.append(dist(m[index],centroids[i + 1][k]))\n",
    "   \n",
    "            res.append(distances)\n",
    "    \n",
    "        #print(\"Distances: \", res)\n",
    "        print(\"--------------------------------------------------\")\n",
    "        clusters = tuple([[] for i in range(K)])#([],[])#tuple([[]] * K )\n",
    "    \n",
    "    \n",
    "        for index in indexes:\n",
    "            for k in range(K - 1):\n",
    "                if res[index][k] < res[index][k + 1]:\n",
    "                    clusters[k].append(index)\n",
    "                else:\n",
    "                    clusters[k + 1].append(index)\n",
    "                \n",
    "        print(\"Clusters: \", clusters)\n",
    "    \n",
    "        new_centroid = []\n",
    "        for c in clusters:\n",
    "            cluster = [m[i] for i in c]\n",
    "            if not cluster:\n",
    "                new_centroid.append(np.zeros((K, all_movies)).tolist())\n",
    "            else:\n",
    "                new_centroid.append((np.asarray(cluster).mean(axis = 0).tolist()))\n",
    "        centroids.append(new_centroid)\n",
    "        \n",
    "        print(\"--------------------------------------------------\")\n",
    "        # print(\"Centroids: \", centroids)   \n",
    "            \n",
    "        i += 1\n",
    "#         if i == 2:\n",
    "#             break\n",
    "    \n",
    "    "
   ]
  },
  {
   "cell_type": "code",
   "execution_count": null,
   "metadata": {
    "collapsed": true
   },
   "outputs": [],
   "source": []
  },
  {
   "cell_type": "code",
   "execution_count": null,
   "metadata": {
    "collapsed": true
   },
   "outputs": [],
   "source": []
  },
  {
   "cell_type": "code",
   "execution_count": 97,
   "metadata": {
    "collapsed": false
   },
   "outputs": [
    {
     "name": "stdout",
     "output_type": "stream",
     "text": [
      "9\n",
      "2\n",
      "9\n"
     ]
    }
   ],
   "source": [
    "for i in clusters:\n",
    "    print(len(i))"
   ]
  },
  {
   "cell_type": "code",
   "execution_count": null,
   "metadata": {
    "collapsed": true
   },
   "outputs": [],
   "source": [
    "def sse(cluster, centroid):\n",
    "    for i in cl\n",
    "    "
   ]
  },
  {
   "cell_type": "code",
   "execution_count": 64,
   "metadata": {
    "collapsed": false
   },
   "outputs": [
    {
     "data": {
      "text/plain": [
       "5"
      ]
     },
     "execution_count": 64,
     "metadata": {},
     "output_type": "execute_result"
    }
   ],
   "source": [
    "len(centroids[3])"
   ]
  },
  {
   "cell_type": "code",
   "execution_count": 60,
   "metadata": {
    "collapsed": false
   },
   "outputs": [],
   "source": [
    "eps = 0.0001\n",
    "all_users = 5\n",
    "m = M[:all_users]\n",
    "mTr = np.transpose(m)\n",
    "indexes = np.arange(all_users)\n",
    "\n",
    "K = 2"
   ]
  },
  {
   "cell_type": "code",
   "execution_count": 66,
   "metadata": {
    "collapsed": false
   },
   "outputs": [],
   "source": [
    "from sklearn.cluster import KMeans\n",
    "import numpy as np\n",
    "X = np.array([[1, 2], [1, 4], [1, 0],[4, 2], [4, 4], [4, 0],[5,6]])\n",
    "# X = m\n",
    "K = 2\n",
    "kmeans = KMeans(n_clusters = K, random_state=0).fit(X)\n",
    "labels = kmeans.labels_\n",
    "centroids = kmeans.cluster_centers_"
   ]
  },
  {
   "cell_type": "code",
   "execution_count": 67,
   "metadata": {
    "collapsed": false
   },
   "outputs": [
    {
     "data": {
      "text/plain": [
       "array([[ 2.5       ,  1.        ],\n",
       "       [ 3.33333333,  4.66666667]])"
      ]
     },
     "execution_count": 67,
     "metadata": {},
     "output_type": "execute_result"
    }
   ],
   "source": [
    "centroids"
   ]
  },
  {
   "cell_type": "code",
   "execution_count": 65,
   "metadata": {
    "collapsed": false
   },
   "outputs": [
    {
     "name": "stdout",
     "output_type": "stream",
     "text": [
      "coord:  [ 5.  3.  4. ...,  0.  0.  0.]  label:  1\n",
      "coord:  [ 4.  0.  0. ...,  0.  0.  0.]  label:  0\n",
      "coord:  [ 0.  0.  0. ...,  0.  0.  0.]  label:  0\n",
      "coord:  [ 0.  0.  0. ...,  0.  0.  0.]  label:  0\n",
      "coord:  [ 0.  0.  0. ...,  0.  0.  0.]  label:  0\n"
     ]
    }
   ],
   "source": [
    "res = ([],[])\n",
    "for i in range(len(X)):\n",
    "    #if \n",
    "    print(\"coord: \", X[i], \" label: \", labels[i])"
   ]
  },
  {
   "cell_type": "code",
   "execution_count": null,
   "metadata": {
    "collapsed": true
   },
   "outputs": [],
   "source": []
  }
 ],
 "metadata": {
  "kernelspec": {
   "display_name": "Python 3",
   "language": "python",
   "name": "python3"
  },
  "language_info": {
   "codemirror_mode": {
    "name": "ipython",
    "version": 3
   },
   "file_extension": ".py",
   "mimetype": "text/x-python",
   "name": "python",
   "nbconvert_exporter": "python",
   "pygments_lexer": "ipython3",
   "version": "3.6.0"
  }
 },
 "nbformat": 4,
 "nbformat_minor": 2
}
