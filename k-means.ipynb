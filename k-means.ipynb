{
 "cells": [
  {
   "cell_type": "code",
   "execution_count": 145,
   "metadata": {
    "collapsed": true
   },
   "outputs": [],
   "source": [
    "import math\n",
    "import numpy as np\n",
    "import preprocess as pr\n",
    "from numpy import linalg\n",
    "import warnings\n",
    "M = pr.M\n",
    "M_test = pr.M_test\n",
    "all_users = pr.all_users\n",
    "all_movies = len(M[0])\n",
    "\n",
    "min_rating = 0\n",
    "max_rating = 5"
   ]
  },
  {
   "cell_type": "code",
   "execution_count": 32,
   "metadata": {
    "collapsed": true
   },
   "outputs": [],
   "source": [
    "# Евклидово расстояние между двумя точками (которые массивы)\n",
    "def dist(p1, p2):\n",
    "    s = 0\n",
    "    for i in range(len(p1)):\n",
    "        s += math.pow(p1[i] - p2[i], 2)\n",
    "    return math.sqrt(s)"
   ]
  },
  {
   "cell_type": "code",
   "execution_count": 147,
   "metadata": {
    "collapsed": true
   },
   "outputs": [],
   "source": [
    "eps = 0.01\n",
    "all_users = 6\n",
    "m = M[:all_users]\n",
    "mTr = np.transpose(m)\n",
    "indexes = np.arange(all_users)\n",
    "\n",
    "K = 2"
   ]
  },
  {
   "cell_type": "code",
   "execution_count": 148,
   "metadata": {
    "collapsed": false
   },
   "outputs": [
    {
     "data": {
      "text/plain": [
       "[[1, 1], [1, 0], [0, 2], [2, 4], [3, 5], [4, 2]]"
      ]
     },
     "execution_count": 148,
     "metadata": {},
     "output_type": "execute_result"
    }
   ],
   "source": [
    "m = [[1,1],[1,0],[0,2],[2,4],[3,5],[4,2]]\n",
    "m"
   ]
  },
  {
   "cell_type": "code",
   "execution_count": 149,
   "metadata": {
    "collapsed": false
   },
   "outputs": [
    {
     "name": "stdout",
     "output_type": "stream",
     "text": [
      "Iteration №  0\n",
      "--------------------------------------------------\n",
      "Distances:  [[2.23606797749979, 3.0], [2.0, 4.0], [3.605551275463989, 2.23606797749979], [4.123105625617661, 1.0], [5.0, 2.23606797749979], [2.23606797749979, 3.605551275463989]]\n",
      "--------------------------------------------------\n",
      "Clusters:  ([0, 1, 5], [2, 3, 4])\n",
      "--------------------------------------------------\n",
      "Centroids:  [[[0.0, 0.0], [0.0, 0.0]], [[3, 0], [1, 4]], [[2.0, 1.0], [1.6666666666666667, 3.6666666666666665]]]\n",
      "Iteration №  1\n",
      "--------------------------------------------------\n",
      "Distances:  [[1.0, 2.748737083745107], [1.4142135623730951, 3.7267799624996494], [2.23606797749979, 2.3570226039551585], [3.0, 0.47140452079103173], [4.123105625617661, 1.8856180831641267], [2.23606797749979, 2.867441755680875]]\n",
      "--------------------------------------------------\n",
      "Clusters:  ([0, 1, 2, 5], [3, 4])\n",
      "--------------------------------------------------\n",
      "Centroids:  [[[0.0, 0.0], [0.0, 0.0]], [[3, 0], [1, 4]], [[2.0, 1.0], [1.6666666666666667, 3.6666666666666665]], [[1.5, 1.25], [2.5, 4.5]]]\n",
      "Iteration №  2\n",
      "--------------------------------------------------\n",
      "Distances:  [[0.5590169943749475, 3.8078865529319543], [1.346291201783626, 4.743416490252569], [1.6770509831248424, 3.5355339059327378], [2.7950849718747373, 0.7071067811865476], [4.038873605350878, 0.7071067811865476], [2.6100766272276377, 2.9154759474226504]]\n",
      "--------------------------------------------------\n",
      "Clusters:  ([0, 1, 2, 5], [3, 4])\n",
      "--------------------------------------------------\n",
      "Centroids:  [[[0.0, 0.0], [0.0, 0.0]], [[3, 0], [1, 4]], [[2.0, 1.0], [1.6666666666666667, 3.6666666666666665]], [[1.5, 1.25], [2.5, 4.5]], [[1.5, 1.25], [2.5, 4.5]]]\n"
     ]
    }
   ],
   "source": [
    "i = 0\n",
    "centroids = [np.zeros((K,2)).tolist()]\n",
    "random_centroid = (np.random.randint(min_rating, max_rating + 1, size=(K,2))).tolist()\n",
    "centroids.append(random_centroid)\n",
    "with warnings.catch_warnings():\n",
    "    warnings.simplefilter(\"ignore\", category=RuntimeWarning)\n",
    "    while linalg.norm(np.asarray(centroids[i]) - np.asarray(centroids[i + 1])) >= eps:\n",
    "        print(\"Iteration № \", i)\n",
    "        print(\"--------------------------------------------------\")\n",
    "        res = []\n",
    "    \n",
    "        for index in indexes:\n",
    "            distances = []\n",
    "            for k in range(K):\n",
    "                distances.append(dist(m[index],centroids[i + 1][k]))\n",
    "   \n",
    "            res.append(distances)\n",
    "    \n",
    "        print(\"Distances: \", res)\n",
    "        print(\"--------------------------------------------------\")\n",
    "        clusters = ([],[])#tuple([[]] * K )\n",
    "    \n",
    "    \n",
    "        for index in indexes:\n",
    "            for k in range(K - 1):\n",
    "                if res[index][k] < res[index][k + 1]:\n",
    "                    clusters[k].append(index)\n",
    "                else:\n",
    "                    clusters[k + 1].append(index)\n",
    "                \n",
    "        print(\"Clusters: \", clusters)\n",
    "    \n",
    "        new_centroid = []\n",
    "        for c in clusters:\n",
    "            cluster = [m[i] for i in c]\n",
    "            if not cluster:\n",
    "                new_centroid.append(np.zeros((K,2)).tolist())\n",
    "            else:\n",
    "                new_centroid.append((np.asarray(cluster).mean(axis = 0).tolist()))\n",
    "        centroids.append(new_centroid)\n",
    "        \n",
    "        print(\"--------------------------------------------------\")\n",
    "        print(\"Centroids: \", centroids)   \n",
    "            \n",
    "        i += 1\n",
    "#         if i == 2:\n",
    "#             break\n",
    "    \n",
    "    "
   ]
  },
  {
   "cell_type": "code",
   "execution_count": 130,
   "metadata": {
    "collapsed": false
   },
   "outputs": [
    {
     "data": {
      "text/plain": [
       "[[0.6666666666666666, 1.0], [2.5, 4.5]]"
      ]
     },
     "execution_count": 130,
     "metadata": {},
     "output_type": "execute_result"
    }
   ],
   "source": [
    "centroids[2]"
   ]
  },
  {
   "cell_type": "code",
   "execution_count": 121,
   "metadata": {
    "collapsed": false
   },
   "outputs": [
    {
     "data": {
      "text/plain": [
       "array([[ 0., -1.],\n",
       "       [-5., -2.]])"
      ]
     },
     "execution_count": 121,
     "metadata": {},
     "output_type": "execute_result"
    }
   ],
   "source": [
    "centroids[0]-centroids[1]"
   ]
  },
  {
   "cell_type": "code",
   "execution_count": 45,
   "metadata": {
    "collapsed": false
   },
   "outputs": [
    {
     "data": {
      "text/plain": [
       "1682"
      ]
     },
     "execution_count": 45,
     "metadata": {},
     "output_type": "execute_result"
    }
   ],
   "source": [
    "w = []\n",
    "for i in np.transpose(cluster):\n",
    "    temp = np.sum(i) / len(i)\n",
    "    w.append(temp)\n",
    "len(w)"
   ]
  },
  {
   "cell_type": "code",
   "execution_count": 60,
   "metadata": {
    "collapsed": false
   },
   "outputs": [],
   "source": [
    "eps = 0.0001\n",
    "all_users = 5\n",
    "m = M[:all_users]\n",
    "mTr = np.transpose(m)\n",
    "indexes = np.arange(all_users)\n",
    "\n",
    "K = 2"
   ]
  },
  {
   "cell_type": "code",
   "execution_count": 61,
   "metadata": {
    "collapsed": true
   },
   "outputs": [],
   "source": [
    "from sklearn.cluster import KMeans\n",
    "import numpy as np\n",
    "# X = np.array([[1, 2], [1, 4], [1, 0],[4, 2], [4, 4], [4, 0],[5,6]])\n",
    "X = m\n",
    "kmeans = KMeans(n_clusters = K, random_state=0).fit(X)\n",
    "labels = kmeans.labels_\n",
    "centroids = kmeans.cluster_centers_"
   ]
  },
  {
   "cell_type": "code",
   "execution_count": 62,
   "metadata": {
    "collapsed": false
   },
   "outputs": [
    {
     "data": {
      "text/plain": [
       "5"
      ]
     },
     "execution_count": 62,
     "metadata": {},
     "output_type": "execute_result"
    }
   ],
   "source": [
    "len(labels)"
   ]
  },
  {
   "cell_type": "code",
   "execution_count": 101,
   "metadata": {
    "collapsed": false
   },
   "outputs": [
    {
     "data": {
      "text/plain": [
       "[[0.0, 0.0], [0.0, 0.0]]"
      ]
     },
     "execution_count": 101,
     "metadata": {},
     "output_type": "execute_result"
    }
   ],
   "source": [
    "np.zeros((K,2)).tolist()"
   ]
  },
  {
   "cell_type": "code",
   "execution_count": 65,
   "metadata": {
    "collapsed": true
   },
   "outputs": [
    {
     "name": "stdout",
     "output_type": "stream",
     "text": [
      "coord:  [ 5.  3.  4. ...,  0.  0.  0.]  label:  1\n",
      "coord:  [ 4.  0.  0. ...,  0.  0.  0.]  label:  0\n",
      "coord:  [ 0.  0.  0. ...,  0.  0.  0.]  label:  0\n",
      "coord:  [ 0.  0.  0. ...,  0.  0.  0.]  label:  0\n",
      "coord:  [ 0.  0.  0. ...,  0.  0.  0.]  label:  0\n"
     ]
    }
   ],
   "source": [
    "res = ([],[])\n",
    "for i in range(len(X)):\n",
    "    #if \n",
    "    print(\"coord: \", X[i], \" label: \", labels[i])"
   ]
  },
  {
   "cell_type": "code",
   "execution_count": 21,
   "metadata": {
    "collapsed": false
   },
   "outputs": [
    {
     "data": {
      "text/plain": [
       "(['BLA'], [])"
      ]
     },
     "execution_count": 21,
     "metadata": {},
     "output_type": "execute_result"
    }
   ],
   "source": [
    "clusters = ([],[])\n",
    "\n",
    "if res[0][0] < res[0][1]:\n",
    "    clusters[0].append(\"BLA\")\n",
    "else:\n",
    "    clusters[1].append(0)\n",
    "clusters"
   ]
  },
  {
   "cell_type": "code",
   "execution_count": 30,
   "metadata": {
    "collapsed": false
   },
   "outputs": [
    {
     "data": {
      "text/plain": [
       "([], [])"
      ]
     },
     "execution_count": 30,
     "metadata": {},
     "output_type": "execute_result"
    }
   ],
   "source": [
    "tuple([[]] * K )"
   ]
  },
  {
   "cell_type": "code",
   "execution_count": 104,
   "metadata": {
    "collapsed": false
   },
   "outputs": [
    {
     "data": {
      "text/plain": [
       "[[1, 1], [1, 0], [0, 2]]"
      ]
     },
     "execution_count": 104,
     "metadata": {},
     "output_type": "execute_result"
    }
   ],
   "source": [
    "cluster"
   ]
  },
  {
   "cell_type": "code",
   "execution_count": 105,
   "metadata": {
    "collapsed": false
   },
   "outputs": [
    {
     "data": {
      "text/plain": [
       "array([ 0.66666667,  1.        ])"
      ]
     },
     "execution_count": 105,
     "metadata": {},
     "output_type": "execute_result"
    }
   ],
   "source": [
    "np.asarray(cluster).mean(axis = 0)"
   ]
  },
  {
   "cell_type": "code",
   "execution_count": 135,
   "metadata": {
    "collapsed": true
   },
   "outputs": [],
   "source": [
    "a = [[1,2,3],[3,4,5]]"
   ]
  },
  {
   "cell_type": "code",
   "execution_count": 136,
   "metadata": {
    "collapsed": false
   },
   "outputs": [
    {
     "data": {
      "text/plain": [
       "array([[1, 2, 3],\n",
       "       [3, 4, 5]])"
      ]
     },
     "execution_count": 136,
     "metadata": {},
     "output_type": "execute_result"
    }
   ],
   "source": [
    "np.asarray(a)"
   ]
  },
  {
   "cell_type": "code",
   "execution_count": 137,
   "metadata": {
    "collapsed": false
   },
   "outputs": [
    {
     "data": {
      "text/plain": [
       "[[1, 2, 3], [3, 4, 5]]"
      ]
     },
     "execution_count": 137,
     "metadata": {},
     "output_type": "execute_result"
    }
   ],
   "source": [
    "a"
   ]
  },
  {
   "cell_type": "code",
   "execution_count": null,
   "metadata": {
    "collapsed": true
   },
   "outputs": [],
   "source": []
  }
 ],
 "metadata": {
  "kernelspec": {
   "display_name": "Python 3",
   "language": "python",
   "name": "python3"
  },
  "language_info": {
   "codemirror_mode": {
    "name": "ipython",
    "version": 3
   },
   "file_extension": ".py",
   "mimetype": "text/x-python",
   "name": "python",
   "nbconvert_exporter": "python",
   "pygments_lexer": "ipython3",
   "version": "3.6.0"
  }
 },
 "nbformat": 4,
 "nbformat_minor": 2
}
