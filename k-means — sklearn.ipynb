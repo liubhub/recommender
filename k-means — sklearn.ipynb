{
 "cells": [
  {
   "cell_type": "code",
   "execution_count": 1,
   "metadata": {
    "collapsed": true
   },
   "outputs": [],
   "source": [
    "import math\n",
    "import numpy as np\n",
    "import preprocess as pr\n",
    "from numpy import linalg\n",
    "import warnings\n",
    "from sklearn.cluster import KMeans\n",
    "\n",
    "M = pr.M\n",
    "M_test = pr.M_test\n",
    "all_users = pr.all_users\n",
    "all_movies = len(M[0])\n",
    "\n",
    "min_rating = 0\n",
    "max_rating = 5"
   ]
  },
  {
   "cell_type": "code",
   "execution_count": 29,
   "metadata": {
    "collapsed": true
   },
   "outputs": [],
   "source": [
    "eps = 0.1\n",
    "all_users = 943\n",
    "m = M[:all_users]\n",
    "mTr = np.transpose(m)\n",
    "indexes = np.arange(all_users)\n",
    "K = 2"
   ]
  },
  {
   "cell_type": "code",
   "execution_count": 3,
   "metadata": {
    "collapsed": false
   },
   "outputs": [],
   "source": [
    "def kmeans(K, X):\n",
    "    kmeans = KMeans(n_clusters = K, init = 'k-means++', max_iter = 1000).fit(X)\n",
    "    labels = kmeans.labels_\n",
    "    centroids = kmeans.cluster_centers_\n",
    "    return labels, centroids"
   ]
  },
  {
   "cell_type": "code",
   "execution_count": 4,
   "metadata": {
    "collapsed": false
   },
   "outputs": [],
   "source": [
    "def forming_clusters(labels, centroids, K):\n",
    "    i = 0\n",
    "    clusters = []\n",
    "    while i < K:\n",
    "        cluster = [j for j in range(len(labels)) if labels[j] == i]\n",
    "        clusters.append((cluster,centroids[i]))\n",
    "         \n",
    "        i += 1\n",
    "    return clusters   "
   ]
  },
  {
   "cell_type": "code",
   "execution_count": 5,
   "metadata": {
    "collapsed": false
   },
   "outputs": [],
   "source": [
    "def sse(clusters):\n",
    "    sse_arr = []\n",
    "    for item in clusters:\n",
    "        cluster = item[0]\n",
    "        centroid = item[1]\n",
    "        s = 0\n",
    "        for i in cluster:\n",
    "            user = m[i]\n",
    "            s += np.sum(np.power(np.asarray(user) - centroid, 2))\n",
    "        sse_arr.append(s)\n",
    "        \n",
    "    return sse_arr"
   ]
  },
  {
   "cell_type": "code",
   "execution_count": 115,
   "metadata": {
    "collapsed": true
   },
   "outputs": [],
   "source": [
    "def bisecting(curr_2_clusters,sse_arr,min_K):\n",
    "    k = 0\n",
    "    main_cluster_arr = []\n",
    "    while k < min_K:\n",
    "        # следующим к разбиению на 2 кластера будет тот, у которого больше sse\n",
    "        max_sse = [i for i in range(len(sse_arr)) if sse_arr[i] == max(sse_arr)][0] # в число\n",
    "        cluster_to_split = curr_2_clusters[max_sse][0] # нужны элементы кластера, [1] - это уже центроиды\n",
    "        # тк  cluster_to_split хранит только id пользователей, нужно достать \n",
    "        # сами значения\n",
    "        users = [m[i] for i in cluster_to_split]\n",
    "\n",
    "        new_model = kmeans(K, users)\n",
    "        curr_2_clusters = forming_clusters(new_model[0], new_model[1], K)\n",
    "        sse_arr = sse(curr_2_clusters)\n",
    "\n",
    "        main_cluster_arr.append(curr_2_clusters)\n",
    "        main_sse.append(sse_arr)\n",
    "\n",
    "        k += 1\n",
    "    \n",
    "    return main_cluster_arr"
   ]
  },
  {
   "cell_type": "code",
   "execution_count": 116,
   "metadata": {
    "collapsed": false
   },
   "outputs": [],
   "source": [
    "model = kmeans(K, m)\n",
    "first_splitted = forming_clusters(model[0], model[1], K)\n",
    "sse_arr = sse(first_splitted)\n",
    "#main_cluster_arr = [first_splitted]\n",
    "main_sse = [sse_arr]\n",
    "curr_2_clusters = first_splitted\n",
    "min_K = 6\n",
    "\n",
    "main_cluster_arr = [first_splitted] + bisecting(curr_2_clusters,sse_arr,min_K)\n",
    "#for cluster in first_splitted:"
   ]
  },
  {
   "cell_type": "code",
   "execution_count": 121,
   "metadata": {
    "collapsed": true
   },
   "outputs": [],
   "source": [
    "users = [m[i] for i in first_splitted[0][0]]\n",
    "model2 = kmeans(K, users)\n",
    "first_splitted2 = forming_clusters(model2[0], model2[1], K)\n",
    "sse_arr2 = sse(first_splitted2)"
   ]
  },
  {
   "cell_type": "code",
   "execution_count": 125,
   "metadata": {
    "collapsed": false
   },
   "outputs": [
    {
     "data": {
      "text/plain": [
       "457"
      ]
     },
     "execution_count": 125,
     "metadata": {},
     "output_type": "execute_result"
    }
   ],
   "source": [
    "len(first_splitted2[1][0])"
   ]
  },
  {
   "cell_type": "code",
   "execution_count": 117,
   "metadata": {
    "collapsed": true
   },
   "outputs": [
    {
     "name": "stdout",
     "output_type": "stream",
     "text": [
      "688\n",
      "255\n",
      "177\n",
      "78\n",
      "37\n",
      "140\n",
      "26\n",
      "114\n",
      "8\n",
      "106\n",
      "22\n",
      "84\n",
      "24\n",
      "60\n"
     ]
    }
   ],
   "source": [
    "for i in main_cluster_arr:\n",
    "    print(len(i[0][0]))\n",
    "    print(len(i[1][0]))"
   ]
  },
  {
   "cell_type": "code",
   "execution_count": 99,
   "metadata": {
    "collapsed": false
   },
   "outputs": [],
   "source": [
    "# MAX LENGTH\n",
    "\n",
    "# model = kmeans(K, m)\n",
    "# first_splitted = forming_clusters(model[0], model[1], K)\n",
    "# sse_arr = sse(first_splitted)\n",
    "# k = 0\n",
    "# min_K = 10\n",
    "# main_cluster_arr = [first_splitted]\n",
    "# main_sse = [sse_arr]\n",
    "# curr_2_clusters = first_splitted\n",
    "# while k < min_K:\n",
    "   \n",
    "#     len_ = max([len(i[0]) for i in curr_2_clusters]) \n",
    "#     cluster_to_split = [i for i in curr_2_clusters  if len(i[0]) == len_][0][0]\n",
    "\n",
    "#     users = [m[i] for i in cluster_to_split]\n",
    "    \n",
    "#     new_model = kmeans(K, users)\n",
    "#     curr_2_clusters = forming_clusters(new_model[0], new_model[1], K)\n",
    "#     sse_arr = sse(curr_2_clusters)\n",
    "    \n",
    "#     main_cluster_arr.append(curr_2_clusters)\n",
    "#     main_sse.append(sse_arr)\n",
    "    \n",
    "#     k += 1\n",
    "# for i in main_cluster_arr:\n",
    "#     print(len(i[0][0]))\n",
    "#     print(len(i[1][0]))"
   ]
  },
  {
   "cell_type": "code",
   "execution_count": 101,
   "metadata": {
    "collapsed": false
   },
   "outputs": [
    {
     "data": {
      "text/plain": [
       "86"
      ]
     },
     "execution_count": 101,
     "metadata": {},
     "output_type": "execute_result"
    }
   ],
   "source": [
    "len(main_cluster_arr[8][1][0])"
   ]
  },
  {
   "cell_type": "code",
   "execution_count": 114,
   "metadata": {
    "collapsed": false
   },
   "outputs": [
    {
     "data": {
      "text/plain": [
       "[3, 4, 5, 6]"
      ]
     },
     "execution_count": 114,
     "metadata": {},
     "output_type": "execute_result"
    }
   ],
   "source": [
    "new_list = [3,4] + [5,6]\n",
    "new_list"
   ]
  },
  {
   "cell_type": "code",
   "execution_count": null,
   "metadata": {
    "collapsed": true
   },
   "outputs": [],
   "source": []
  }
 ],
 "metadata": {
  "kernelspec": {
   "display_name": "Python 3",
   "language": "python",
   "name": "python3"
  },
  "language_info": {
   "codemirror_mode": {
    "name": "ipython",
    "version": 3
   },
   "file_extension": ".py",
   "mimetype": "text/x-python",
   "name": "python",
   "nbconvert_exporter": "python",
   "pygments_lexer": "ipython3",
   "version": "3.6.0"
  }
 },
 "nbformat": 4,
 "nbformat_minor": 2
}
