{
 "cells": [
  {
   "cell_type": "code",
   "execution_count": 1,
   "metadata": {
    "collapsed": true
   },
   "outputs": [],
   "source": [
    "import math\n",
    "import numpy as np\n",
    "import preprocess as pr\n",
    "from numpy import linalg\n",
    "import warnings\n",
    "from sklearn.cluster import KMeans\n",
    "\n",
    "M = pr.M\n",
    "M_test = pr.M_test\n",
    "all_users = pr.all_users\n",
    "all_movies = len(M[0])\n",
    "\n",
    "min_rating = 0\n",
    "max_rating = 5"
   ]
  },
  {
   "cell_type": "code",
   "execution_count": 2,
   "metadata": {
    "collapsed": true
   },
   "outputs": [],
   "source": [
    "eps = 0.1\n",
    "all_users = 943\n",
    "m = M[:all_users]\n",
    "mTr = np.transpose(m)\n",
    "indexes = np.arange(all_users)\n",
    "K = 50"
   ]
  },
  {
   "cell_type": "code",
   "execution_count": 3,
   "metadata": {
    "collapsed": false
   },
   "outputs": [],
   "source": [
    "def kmeans(K, X):\n",
    "    kmeans = KMeans(n_clusters = K, init = 'k-means++', max_iter = 1000).fit(X)\n",
    "    labels = kmeans.labels_\n",
    "    centroids = kmeans.cluster_centers_\n",
    "    return labels, centroids"
   ]
  },
  {
   "cell_type": "code",
   "execution_count": 4,
   "metadata": {
    "collapsed": false
   },
   "outputs": [],
   "source": [
    "def forming_clusters(labels, centroids, K):\n",
    "    i = 0\n",
    "    clusters = []\n",
    "    while i < K:\n",
    "        cluster = [j for j in range(len(labels)) if labels[j] == i]\n",
    "        clusters.append((cluster,centroids[i]))\n",
    "         \n",
    "        i += 1\n",
    "    return clusters   "
   ]
  },
  {
   "cell_type": "code",
   "execution_count": 5,
   "metadata": {
    "collapsed": false
   },
   "outputs": [],
   "source": [
    "def sse(clusters):\n",
    "    sse_arr = []\n",
    "    for item in clusters:\n",
    "        cluster = item[0]\n",
    "        centroid = item[1]\n",
    "        s = 0\n",
    "        for i in cluster:\n",
    "            user = m[i]\n",
    "            s += np.sum(np.power(np.asarray(user) - centroid, 2))\n",
    "        sse_arr.append(s)\n",
    "        \n",
    "    return sse_arr"
   ]
  },
  {
   "cell_type": "code",
   "execution_count": 6,
   "metadata": {
    "collapsed": true
   },
   "outputs": [],
   "source": [
    "model = kmeans(K, m)\n",
    "cluster_res = forming_clusters(model[0], model[1], K)"
   ]
  },
  {
   "cell_type": "code",
   "execution_count": 7,
   "metadata": {
    "collapsed": true
   },
   "outputs": [],
   "source": [
    "sse_arr = sse(cluster_res)"
   ]
  },
  {
   "cell_type": "code",
   "execution_count": 8,
   "metadata": {
    "collapsed": false
   },
   "outputs": [
    {
     "data": {
      "text/plain": [
       "[11525.749999999998,\n",
       " 43156.011111111096,\n",
       " 21980.545454545456,\n",
       " 1593.5,\n",
       " 27557.849999999999,\n",
       " 8361.0,\n",
       " 8003.6875,\n",
       " 0.0,\n",
       " 49255.806451612902,\n",
       " 0.0,\n",
       " 4996.0,\n",
       " 33591.333333333336,\n",
       " 103921.16666666664,\n",
       " 0.0,\n",
       " 0.0,\n",
       " 3851.25,\n",
       " 44381.942857142873,\n",
       " 0.0,\n",
       " 0.0,\n",
       " 23644.857142857145,\n",
       " 0.0,\n",
       " 0.0,\n",
       " 0.0,\n",
       " 0.0,\n",
       " 11803.47058823529,\n",
       " 0.0,\n",
       " 3462.0,\n",
       " 0.0,\n",
       " 2606.0,\n",
       " 21987.329545454537,\n",
       " 0.0,\n",
       " 45382.421052631573,\n",
       " 0.0,\n",
       " 0.0,\n",
       " 0.0,\n",
       " 0.0,\n",
       " 28994.956521739135,\n",
       " 0.0,\n",
       " 0.0,\n",
       " 0.0,\n",
       " 0.0,\n",
       " 0.0,\n",
       " 36038.275862068964,\n",
       " 46614.203592814338,\n",
       " 0.0,\n",
       " 0.0,\n",
       " 0.0,\n",
       " 1485.0,\n",
       " 75729.421487603322,\n",
       " 0.0]"
      ]
     },
     "execution_count": 8,
     "metadata": {},
     "output_type": "execute_result"
    }
   ],
   "source": [
    "sse_arr"
   ]
  },
  {
   "cell_type": "code",
   "execution_count": 12,
   "metadata": {
    "collapsed": false
   },
   "outputs": [
    {
     "name": "stdout",
     "output_type": "stream",
     "text": [
      "20\n",
      "90\n",
      "11\n",
      "2\n",
      "20\n",
      "6\n",
      "16\n",
      "1\n",
      "31\n",
      "1\n",
      "3\n",
      "21\n",
      "84\n",
      "1\n",
      "1\n",
      "4\n",
      "35\n",
      "1\n",
      "1\n",
      "21\n",
      "1\n",
      "1\n",
      "1\n",
      "1\n",
      "34\n",
      "1\n",
      "3\n",
      "1\n",
      "2\n",
      "88\n",
      "1\n",
      "38\n",
      "1\n",
      "1\n",
      "1\n",
      "1\n",
      "69\n",
      "1\n",
      "1\n",
      "1\n",
      "1\n",
      "1\n",
      "29\n",
      "167\n",
      "1\n",
      "1\n",
      "1\n",
      "2\n",
      "121\n",
      "1\n"
     ]
    }
   ],
   "source": [
    "for i in cluster_res:\n",
    "    print(len(i[0]))"
   ]
  },
  {
   "cell_type": "code",
   "execution_count": null,
   "metadata": {
    "collapsed": false
   },
   "outputs": [],
   "source": []
  },
  {
   "cell_type": "code",
   "execution_count": 145,
   "metadata": {
    "collapsed": false
   },
   "outputs": [
    {
     "data": {
      "text/plain": [
       "16"
      ]
     },
     "execution_count": 145,
     "metadata": {},
     "output_type": "execute_result"
    }
   ],
   "source": [
    "a = np.asarray([[1,2,2,1]])\n",
    "b = np.asarray([[3,4,4,3]])\n",
    "np.sum(np.power(b - a,2))"
   ]
  },
  {
   "cell_type": "code",
   "execution_count": null,
   "metadata": {
    "collapsed": true
   },
   "outputs": [],
   "source": []
  }
 ],
 "metadata": {
  "kernelspec": {
   "display_name": "Python 3",
   "language": "python",
   "name": "python3"
  },
  "language_info": {
   "codemirror_mode": {
    "name": "ipython",
    "version": 3
   },
   "file_extension": ".py",
   "mimetype": "text/x-python",
   "name": "python",
   "nbconvert_exporter": "python",
   "pygments_lexer": "ipython3",
   "version": "3.6.0"
  }
 },
 "nbformat": 4,
 "nbformat_minor": 2
}
