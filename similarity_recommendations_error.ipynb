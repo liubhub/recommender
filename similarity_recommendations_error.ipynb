{
 "cells": [
  {
   "cell_type": "code",
   "execution_count": null,
   "metadata": {
    "collapsed": false
   },
   "outputs": [],
   "source": [
    "import pandas as pd\n",
    "import numpy as np\n",
    "import math\n",
    "import preprocess as pr\n",
    "import similarity_metrics as sm"
   ]
  },
  {
   "cell_type": "code",
   "execution_count": null,
   "metadata": {
    "collapsed": false
   },
   "outputs": [],
   "source": [
    "all_users = pr.all_users\n",
    "M = pr.M\n",
    "M_test = pr.M_test\n",
    "\n",
    "ratings = pr.ratings\n",
    "ratings_test = pr.ratings_test"
   ]
  },
  {
   "cell_type": "code",
   "execution_count": null,
   "metadata": {
    "collapsed": false
   },
   "outputs": [],
   "source": [
    "def eval_similarity(id_user, metric):\n",
    "    all_sim = [[],[]]\n",
    "    u = M[id_user - 1] \n",
    "    # считаем \"похожесть\" целевого пользователя с остальными\n",
    "    for i in range(all_users): \n",
    "        if i == id_user - 1:\n",
    "            continue\n",
    "        v = M[i]\n",
    "        sim = metric(u,v)\n",
    "        all_sim[0].append(i) # i как в матрице\n",
    "        all_sim[1].append(sim)\n",
    "    return all_sim"
   ]
  },
  {
   "cell_type": "code",
   "execution_count": null,
   "metadata": {
    "collapsed": true
   },
   "outputs": [],
   "source": [
    "def top_max_sim(sim_array, N):\n",
    "    sim_array_top_N = np.sort(np.asarray(sim_array))[-N::] # N макс. коэф. похожести\n",
    "    maxN = [[],[]] \n",
    "    for i in range(len(sim_array)):\n",
    "        if sim_array[i] in sim_array_top_N:\n",
    "            maxN[0].append(i) # i как в матрице\n",
    "            maxN[1].append(sim_array[i])\n",
    "    return maxN       # max коэф. похожести"
   ]
  },
  {
   "cell_type": "code",
   "execution_count": null,
   "metadata": {
    "collapsed": false
   },
   "outputs": [],
   "source": [
    "def generate_recom(arr_sim, curr_user):\n",
    "    max_rating = 3,4,5\n",
    "    curr_user_movies = set(ratings[(ratings['user_id'] == curr_user)]['movie_id'])\n",
    "    mas_rec = []\n",
    "    # finding movies \n",
    "    for i in arr_sim[0]:\n",
    "        curr_sim = i + 1 # в датафрейме не с нуля # i + 2\n",
    "        to_rec = set(ratings[(ratings['user_id'] == curr_sim) & ((ratings['rating'] == max_rating[0]) | (ratings['rating'] == max_rating[1]) | (ratings['rating'] == max_rating[2]))]['movie_id']) \n",
    "        recommender_set = to_rec - curr_user_movies # рекоммендуем те, которые пользователь не смотрел\n",
    "        mas_rec.append((curr_sim, list(recommender_set)))\n",
    "    # adding prediction rating\n",
    "    for i in mas_rec:\n",
    "        curr = i[0]\n",
    "        for j in range(len(i[1])):\n",
    "            # прогноз оценки\n",
    "            # прогнозная оценка = той, которую поставил похожий пользователь\n",
    "            r = ratings[(ratings['user_id'] == curr) & (ratings['movie_id'] == i[1][j])]['rating'].values[0]\n",
    "            temp = dict([(i[1][j],r)]) \n",
    "            # temp = i[1][j]\n",
    "            i[1][j] = temp \n",
    "    return mas_rec"
   ]
  },
  {
   "cell_type": "code",
   "execution_count": null,
   "metadata": {
    "collapsed": false
   },
   "outputs": [],
   "source": [
    "# этот перебор нужен для того, чтобы из массива рекомендаций\n",
    "# извлечь те фильмы, что в тестовой выборке действительно посмотрел\n",
    "# целевой пользователь\n",
    "def transform(to_rec, curr_user_movies):\n",
    "    mas = []\n",
    "    ls = []\n",
    "    for rec in to_rec:\n",
    "        for i in rec[1]:\n",
    "            for j in curr_user_movies:\n",
    "                if j in i:\n",
    "                    ls.append(i)\n",
    "        mas.append((rec[0],ls))\n",
    "        ls = []\n",
    "        \n",
    "    empty = []\n",
    "    for i in mas:\n",
    "        for j in i:\n",
    "            if not j:\n",
    "                empty.append(i)\n",
    "    i = 0\n",
    "    \n",
    "    while i < len(mas):\n",
    "        if mas[i] in empty:\n",
    "            del mas[i]\n",
    "        else:\n",
    "            i += 1\n",
    "            \n",
    "    for i in mas:\n",
    "        for j in i:\n",
    "            if not j:\n",
    "                mas.remove(i)\n",
    "    return mas"
   ]
  },
  {
   "cell_type": "code",
   "execution_count": null,
   "metadata": {
    "collapsed": false
   },
   "outputs": [],
   "source": [
    "def eval_mae(id_user, mas_rec):\n",
    "    user_error = []\n",
    "    mae_each_user = []\n",
    "    curr_user = ratings_test[(ratings_test['user_id'] == id_user)]\n",
    "    for rec_list in mas_rec:\n",
    "        for item in rec_list[1]:\n",
    "            temp = list(item)[0]\n",
    "            error = math.fabs(int(curr_user[curr_user['movie_id'] == temp]['rating'].values) - item[temp])\n",
    "            user_error.append(error)\n",
    "        mae_each_user.append(np.sum(np.asarray(user_error)) / len(user_error))\n",
    "        user_error = []\n",
    "    return mae_each_user"
   ]
  },
  {
   "cell_type": "code",
   "execution_count": null,
   "metadata": {
    "collapsed": false
   },
   "outputs": [],
   "source": [
    "def process(id_user, N):\n",
    "    similarity_array = eval_similarity(id_user, sm.simJaccard)\n",
    "    \n",
    "    N_similar_users = top_max_sim(similarity_array[1], N)\n",
    "    \n",
    "    to_rec = transform(generate_recom(N_similar_users, id_user), list(ratings_test[(ratings_test['user_id'] == id_user)]['movie_id']))\n",
    "    \n",
    "    mae_each_user = eval_mae(id_user, to_rec)\n",
    "    \n",
    "    return mae_each_user"
   ]
  },
  {
   "cell_type": "code",
   "execution_count": null,
   "metadata": {
    "collapsed": true
   },
   "outputs": [],
   "source": [
    "def eval_acos(id_user, N):\n",
    "    res = []\n",
    "    acos_similarity_array = eval_similarity(id_user, sm.acos)\n",
    "    N_acos_sim_users = top_max_sim(acos_similarity_array[1], N)\n",
    "    to_rec_acos = transform(generate_recom(N_acos_sim_users, id_user), list(ratings_test[(ratings_test['user_id'] == id_user)]['movie_id']))\n",
    "    mae_acos = eval_mae(id_user, to_rec_acos)\n",
    "    mae_final = np.sum(np.asarray(mae_acos)) / len(mae_acos)\n",
    "#     res.append(to_rec_acos)\n",
    "#     res.append(mae_acos)\n",
    "    res.append(mae_final)\n",
    "    \n",
    "    return res\n",
    "\n",
    "def eval_pcc(id_user, N):\n",
    "    res = []\n",
    "    pcc_similarity_array = eval_similarity(id_user, sm.pcc)\n",
    "    N_pcc_sim_users = top_max_sim(pcc_similarity_array[1], N)\n",
    "    to_rec_pcc = transform(generate_recom(N_pcc_sim_users, id_user), list(ratings_test[(ratings_test['user_id'] == id_user)]['movie_id']))\n",
    "    mae_pcc = eval_mae(id_user, to_rec_pcc)\n",
    "    mae_final = np.sum(np.asarray(mae_pcc)) / len(mae_pcc)\n",
    "#     res.append(to_rec_pcc)\n",
    "#     res.append(mae_pcc)\n",
    "    res.append(mae_final)\n",
    "    return res\n",
    "\n",
    "def eval_cpcc(id_user, N):\n",
    "    res = []\n",
    "    cpcc_similarity_array = eval_similarity(id_user, sm.cpcc)\n",
    "    N_cpcc_sim_users = top_max_sim(cpcc_similarity_array[1], N)\n",
    "    to_rec_cpcc = transform(generate_recom(N_cpcc_sim_users, id_user), list(ratings_test[(ratings_test['user_id'] == id_user)]['movie_id']))\n",
    "    mae_cpcc = eval_mae(id_user, to_rec_cpcc)\n",
    "    mae_final = np.sum(np.asarray(mae_cpcc)) / len(mae_cpcc)\n",
    "#     res.append(to_rec_cpcc)\n",
    "#     res.append(mae_cpcc)\n",
    "    res.append(mae_final)\n",
    "    \n",
    "    return res\n",
    "\n",
    "def eval_jaccard(id_user, N):\n",
    "    res = []\n",
    "    jaccard_similarity_array = eval_similarity(id_user, sm.simJaccard)\n",
    "    N_jaccard_sim_users = top_max_sim(jaccard_similarity_array[1], N)  \n",
    "    to_rec_jaccard = transform(generate_recom(N_jaccard_sim_users, id_user), list(ratings_test[(ratings_test['user_id'] == id_user)]['movie_id']))\n",
    "    mae_jaccard = eval_mae(id_user, to_rec_jaccard)\n",
    "    mae_final = np.sum(np.asarray(mae_jaccard)) / len(mae_jaccard)\n",
    "#     res.append(to_rec_jaccard)\n",
    "#     res.append(mae_jaccard)\n",
    "    res.append(mae_final)\n",
    "    \n",
    "    return res"
   ]
  },
  {
   "cell_type": "code",
   "execution_count": null,
   "metadata": {
    "collapsed": true
   },
   "outputs": [],
   "source": [
    "def main():\n",
    "    id_user = int(input(\"Введіть id користувача: \"))\n",
    "    N = int(input(\"Введіть N: \"))\n",
    "    res = []\n",
    "    res.append(eval_acos(id_user,N))\n",
    "    res.append(eval_pcc(id_user,N))\n",
    "    res.append(eval_cpcc(id_user,N))\n",
    "    res.append(eval_jaccard(id_user,N))\n",
    "    \n",
    "    return res"
   ]
  },
  {
   "cell_type": "code",
   "execution_count": null,
   "metadata": {
    "collapsed": false
   },
   "outputs": [],
   "source": [
    "main()"
   ]
  }
 ],
 "metadata": {
  "kernelspec": {
   "display_name": "Python 3",
   "language": "python",
   "name": "python3"
  },
  "language_info": {
   "codemirror_mode": {
    "name": "ipython",
    "version": 3
   },
   "file_extension": ".py",
   "mimetype": "text/x-python",
   "name": "python",
   "nbconvert_exporter": "python",
   "pygments_lexer": "ipython3",
   "version": "3.6.0"
  }
 },
 "nbformat": 4,
 "nbformat_minor": 2
}
