{
 "cells": [
  {
   "cell_type": "code",
   "execution_count": 1,
   "metadata": {
    "collapsed": false
   },
   "outputs": [],
   "source": [
    "class Node:\n",
    "    def __init__(self, val):\n",
    "        self.l = None\n",
    "        self.r = None\n",
    "        self.v = val\n",
    "\n",
    "class Tree:\n",
    "    def __init__(self):\n",
    "        self.root = None\n",
    "\n",
    "    def getRoot(self):\n",
    "        return self.root\n",
    "\n",
    "    def add(self, val):\n",
    "        if(self.root == None):\n",
    "            self.root = Node(val)\n",
    "        else:\n",
    "            self._add(val, self.root)\n",
    "\n",
    "    def _add(self, val, node):\n",
    "        if(val < node.v):\n",
    "            if(node.l != None):\n",
    "                self._add(val, node.l)\n",
    "            else:\n",
    "                node.l = Node(val)\n",
    "        else:\n",
    "            if(node.r != None):\n",
    "                self._add(val, node.r)\n",
    "            else:\n",
    "                node.r = Node(val)\n",
    "\n",
    "    def find(self, val):\n",
    "        if(self.root != None):\n",
    "            return self._find(val, self.root)\n",
    "        else:\n",
    "            return None\n",
    "\n",
    "    def _find(self, val, node):\n",
    "        if(val == node.v):\n",
    "            return node\n",
    "        elif(val < node.v and node.l != None):\n",
    "            self._find(val, node.l)\n",
    "        elif(val > node.v and node.r != None):\n",
    "            self._find(val, node.r)\n",
    "\n",
    "    def deleteTree(self):\n",
    "        # garbage collector will do this for us. \n",
    "        self.root = None\n",
    "\n",
    "    def printTree(self):\n",
    "        if(self.root != None):\n",
    "            self._printTree(self.root)\n",
    "\n",
    "    def _printTree(self, node):\n",
    "        if(node != None):\n",
    "            self._printTree(node.l)\n",
    "            print(str(node.v) + ' ')\n",
    "            self._printTree(node.r)\n",
    "\n",
    "#     3\n",
    "# 0     4\n",
    "#   2      8\n",
    "#       9     1\n",
    "tree = Tree()\n",
    "# tree.add(3)\n",
    "# tree.add(4)\n",
    "# tree.add(0)\n",
    "# tree.add(8)\n",
    "# tree.add(2)\n",
    "# tree.add(9)\n",
    "# tree.add(1)\n",
    "#tree.printTree()\n",
    "# print((tree.find(3)).v)\n",
    "# print(tree.find(10))\n",
    "#tree.deleteTree()\n",
    "tree.printTree()"
   ]
  },
  {
   "cell_type": "code",
   "execution_count": 2,
   "metadata": {
    "collapsed": false
   },
   "outputs": [],
   "source": [
    "tree.add(\"Maud\")\n",
    "tree.add(\"Tony\")\n",
    "tree.add(\"Bob\")"
   ]
  },
  {
   "cell_type": "code",
   "execution_count": 6,
   "metadata": {
    "collapsed": true
   },
   "outputs": [],
   "source": [
    "tree.add(\"Li\")"
   ]
  },
  {
   "cell_type": "code",
   "execution_count": 7,
   "metadata": {
    "collapsed": false
   },
   "outputs": [
    {
     "name": "stdout",
     "output_type": "stream",
     "text": [
      "Bob \n",
      "Jay \n",
      "Li \n",
      "Maud \n",
      "Tony \n"
     ]
    }
   ],
   "source": [
    "tree.printTree()"
   ]
  },
  {
   "cell_type": "code",
   "execution_count": null,
   "metadata": {
    "collapsed": true
   },
   "outputs": [],
   "source": []
  }
 ],
 "metadata": {
  "kernelspec": {
   "display_name": "Python 3",
   "language": "python",
   "name": "python3"
  },
  "language_info": {
   "codemirror_mode": {
    "name": "ipython",
    "version": 3
   },
   "file_extension": ".py",
   "mimetype": "text/x-python",
   "name": "python",
   "nbconvert_exporter": "python",
   "pygments_lexer": "ipython3",
   "version": "3.6.0"
  }
 },
 "nbformat": 4,
 "nbformat_minor": 2
}
