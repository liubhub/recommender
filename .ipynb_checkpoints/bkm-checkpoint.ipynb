{
 "cells": [
  {
   "cell_type": "code",
   "execution_count": 1,
   "metadata": {
    "collapsed": true
   },
   "outputs": [],
   "source": [
    "import numpy as np\n",
    "import math\n",
    "import preprocess as pr\n",
    "\n",
    "M = pr.M\n",
    "M_test = pr.M_test\n",
    "all_users = pr.all_users\n",
    "all_movies = len(M[0])\n",
    "\n",
    "ratings = pr.ratings\n",
    "ratings_test = pr.ratings_test"
   ]
  },
  {
   "cell_type": "code",
   "execution_count": 3,
   "metadata": {
    "collapsed": false
   },
   "outputs": [],
   "source": [
    "def divide(indexes, c):\n",
    "    cL = c[0]\n",
    "    cR = c[1]\n",
    "    mL = []\n",
    "    mR = []\n",
    "    normCL = 0\n",
    "    normCR = 0\n",
    "    for index in indexes:\n",
    "        rating = m[index]\n",
    "        for i in range(len(rating)):\n",
    "            tempCL = math.fabs(rating[i] - cL[i])\n",
    "            normCL += tempCL\n",
    "            tempCR = math.fabs(rating[i] - cR[i])\n",
    "            normCR += tempCR\n",
    "        if normCL > normCR:\n",
    "            mR.append(index)\n",
    "            # mR.append((index, rating))\n",
    "        else:\n",
    "            mL.append(index)\n",
    "            # mL.append((index, rating))\n",
    "        normCL = 0\n",
    "        normCR = 0\n",
    "    return (mL, mR)"
   ]
  },
  {
   "cell_type": "code",
   "execution_count": 4,
   "metadata": {
    "collapsed": false
   },
   "outputs": [],
   "source": [
    "def eval_w(indexes):\n",
    "    \n",
    "    w = []\n",
    "    matr = [m[i] for i in indexes]\n",
    "    \n",
    "    if len(indexes) != 1:\n",
    "        for i in np.transpose(matr):\n",
    "            temp = np.sum(i) / len(i)\n",
    "            w.append(temp)\n",
    "    else:\n",
    "        w = matr[0]\n",
    "    # print(w)\n",
    "    return w\n"
   ]
  },
  {
   "cell_type": "code",
   "execution_count": 5,
   "metadata": {
    "collapsed": false
   },
   "outputs": [
    {
     "ename": "NameError",
     "evalue": "name 'indexes' is not defined",
     "output_type": "error",
     "traceback": [
      "\u001b[0;31m---------------------------------------------------------------------------\u001b[0m",
      "\u001b[0;31mNameError\u001b[0m                                 Traceback (most recent call last)",
      "\u001b[0;32m<ipython-input-5-2963db00be75>\u001b[0m in \u001b[0;36m<module>\u001b[0;34m()\u001b[0m\n\u001b[0;32m----> 1\u001b[0;31m \u001b[0mmatr\u001b[0m \u001b[1;33m=\u001b[0m \u001b[1;33m[\u001b[0m\u001b[0mm\u001b[0m\u001b[1;33m[\u001b[0m\u001b[0mi\u001b[0m\u001b[1;33m]\u001b[0m \u001b[1;32mfor\u001b[0m \u001b[0mi\u001b[0m \u001b[1;32min\u001b[0m \u001b[0mindexes\u001b[0m\u001b[1;33m]\u001b[0m\u001b[1;33m\u001b[0m\u001b[0m\n\u001b[0m\u001b[1;32m      2\u001b[0m \u001b[0mnp\u001b[0m\u001b[1;33m.\u001b[0m\u001b[0mtranspose\u001b[0m\u001b[1;33m(\u001b[0m\u001b[0mmatr\u001b[0m\u001b[1;33m)\u001b[0m\u001b[1;33m\u001b[0m\u001b[0m\n",
      "\u001b[0;31mNameError\u001b[0m: name 'indexes' is not defined"
     ]
    }
   ],
   "source": [
    "matr = [m[i] for i in indexes]\n",
    "np.transpose(matr)"
   ]
  },
  {
   "cell_type": "code",
   "execution_count": 10,
   "metadata": {
    "collapsed": false
   },
   "outputs": [],
   "source": [
    "all_users = 900\n",
    "\n",
    "m = M[0:all_users:1]\n",
    "# m = M\n",
    "mTr = np.transpose(m)"
   ]
  },
  {
   "cell_type": "code",
   "execution_count": 11,
   "metadata": {
    "collapsed": true
   },
   "outputs": [],
   "source": [
    "indexes = [i for i in range(0,all_users)]"
   ]
  },
  {
   "cell_type": "code",
   "execution_count": 12,
   "metadata": {
    "collapsed": false
   },
   "outputs": [
    {
     "name": "stdout",
     "output_type": "stream",
     "text": [
      "i =  0\n",
      "r0 =  270\n",
      "r1 =  630\n",
      "wL =  1682\n",
      "wR =  1682\n",
      "cL =  1682\n",
      "cR =  1682\n",
      "i =  1\n",
      "r0 =  18\n",
      "r1 =  882\n",
      "wL =  1682\n",
      "wR =  1682\n",
      "cL =  1682\n",
      "cR =  1682\n",
      "i =  2\n",
      "r0 =  10\n",
      "r1 =  890\n",
      "wL =  1682\n",
      "wR =  1682\n",
      "cL =  1682\n",
      "cR =  1682\n",
      "i =  3\n",
      "r0 =  7\n",
      "r1 =  893\n",
      "wL =  1682\n",
      "wR =  1682\n",
      "cL =  1682\n",
      "cR =  1682\n",
      "i =  4\n",
      "r0 =  7\n",
      "r1 =  893\n",
      "wL =  1682\n",
      "wR =  1682\n",
      "cL =  1682\n",
      "cR =  1682\n"
     ]
    }
   ],
   "source": [
    "cL = np.random.randint(0,5, size=(1,all_movies))[0]\n",
    "w = eval_w(indexes)\n",
    "cR = np.asarray(w) - (np.asarray(cL) - np.asarray(w))\n",
    "#print(cL)\n",
    "#print(w)\n",
    "#print(cR)\n",
    "for i in range(0,100):\n",
    "    print(\"i = \", i)\n",
    "    c = (cL,cR)\n",
    "    res = divide(indexes,c)\n",
    "    print(\"r0 = \",len(res[0]))\n",
    "    print(\"r1 = \",len(res[1]))\n",
    "\n",
    "    wL = eval_w(res[0])\n",
    "    wR = eval_w(res[1])\n",
    "    print(\"wL = \", len(wL))\n",
    "    print(\"wR = \", len(wR))\n",
    "    print(\"cL = \", len(cL))\n",
    "    print(\"cR = \", len(cR))\n",
    "\n",
    "    if list(cL) == list(wL) and list(cR) == list(wR):\n",
    "        break\n",
    "    else:\n",
    "        cL = wL\n",
    "        cR = wR\n",
    "# c = (cL,cR)\n",
    "# divide(indexes,c)"
   ]
  },
  {
   "cell_type": "code",
   "execution_count": 74,
   "metadata": {
    "collapsed": false
   },
   "outputs": [
    {
     "data": {
      "text/plain": [
       "[]"
      ]
     },
     "execution_count": 74,
     "metadata": {},
     "output_type": "execute_result"
    }
   ],
   "source": [
    "cL"
   ]
  },
  {
   "cell_type": "code",
   "execution_count": 28,
   "metadata": {
    "collapsed": false
   },
   "outputs": [
    {
     "data": {
      "text/plain": [
       "True"
      ]
     },
     "execution_count": 28,
     "metadata": {},
     "output_type": "execute_result"
    }
   ],
   "source": [
    "a = (-1,9,3)\n",
    "b = (1,2,3)\n",
    "all(a)"
   ]
  },
  {
   "cell_type": "code",
   "execution_count": null,
   "metadata": {
    "collapsed": true
   },
   "outputs": [],
   "source": []
  }
 ],
 "metadata": {
  "kernelspec": {
   "display_name": "Python 3",
   "language": "python",
   "name": "python3"
  },
  "language_info": {
   "codemirror_mode": {
    "name": "ipython",
    "version": 3
   },
   "file_extension": ".py",
   "mimetype": "text/x-python",
   "name": "python",
   "nbconvert_exporter": "python",
   "pygments_lexer": "ipython3",
   "version": "3.6.0"
  }
 },
 "nbformat": 4,
 "nbformat_minor": 2
}
