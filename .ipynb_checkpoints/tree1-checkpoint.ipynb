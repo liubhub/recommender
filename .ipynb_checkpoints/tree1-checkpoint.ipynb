{
 "cells": [
  {
   "cell_type": "code",
   "execution_count": 1,
   "metadata": {
    "collapsed": true
   },
   "outputs": [],
   "source": [
    "# simple binary tree\n",
    "# in this implementation, a node is inserted between an existing node and the root\n",
    "\n",
    "\n",
    "class BinaryTree():\n",
    "\n",
    "    def __init__(self,rootid):\n",
    "      self.left = None\n",
    "      self.right = None\n",
    "      self.rootid = rootid\n",
    "\n",
    "    def getLeftChild(self):\n",
    "        return self.left\n",
    "    def getRightChild(self):\n",
    "        return self.right\n",
    "    def setNodeValue(self,value):\n",
    "        self.rootid = value\n",
    "    def getNodeValue(self):\n",
    "        return self.rootid\n",
    "\n",
    "    def insertRight(self,newNode):\n",
    "        if self.right == None:\n",
    "            self.right = BinaryTree(newNode)\n",
    "        else:\n",
    "            tree = BinaryTree(newNode)\n",
    "            tree.right = self.right\n",
    "            self.right = tree\n",
    "        \n",
    "    def insertLeft(self,newNode):\n",
    "        if self.left == None:\n",
    "            self.left = BinaryTree(newNode)\n",
    "        else:\n",
    "            tree = BinaryTree(newNode)\n",
    "            self.left = tree\n",
    "            tree.left = self.left\n",
    "\n",
    "\n",
    "def printTree(tree):\n",
    "        if tree != None:\n",
    "            printTree(tree.getLeftChild())\n",
    "            print(tree.getNodeValue())\n",
    "            printTree(tree.getRightChild())"
   ]
  },
  {
   "cell_type": "code",
   "execution_count": 6,
   "metadata": {
    "collapsed": true
   },
   "outputs": [],
   "source": [
    "def testTree():\n",
    "    myTree = BinaryTree(\"Maud\")\n",
    "    myTree.insertLeft(\"Bob\")\n",
    "    myTree.insertRight(\"Tony\")\n",
    "    myTree.insertRight(\"Steven\")\n",
    "    printTree(myTree)"
   ]
  },
  {
   "cell_type": "code",
   "execution_count": 7,
   "metadata": {
    "collapsed": false
   },
   "outputs": [
    {
     "name": "stdout",
     "output_type": "stream",
     "text": [
      "Bob\n",
      "Maud\n",
      "Steven\n",
      "Tony\n"
     ]
    }
   ],
   "source": [
    "testTree()"
   ]
  },
  {
   "cell_type": "code",
   "execution_count": 12,
   "metadata": {
    "collapsed": false
   },
   "outputs": [],
   "source": [
    "myTree = BinaryTree(\"I\")"
   ]
  },
  {
   "cell_type": "code",
   "execution_count": 13,
   "metadata": {
    "collapsed": false
   },
   "outputs": [
    {
     "data": {
      "text/plain": [
       "<__main__.BinaryTree at 0x4afeff0>"
      ]
     },
     "execution_count": 13,
     "metadata": {},
     "output_type": "execute_result"
    }
   ],
   "source": [
    "myTree"
   ]
  },
  {
   "cell_type": "code",
   "execution_count": null,
   "metadata": {
    "collapsed": true
   },
   "outputs": [],
   "source": []
  }
 ],
 "metadata": {
  "kernelspec": {
   "display_name": "Python 3",
   "language": "python",
   "name": "python3"
  },
  "language_info": {
   "codemirror_mode": {
    "name": "ipython",
    "version": 3
   },
   "file_extension": ".py",
   "mimetype": "text/x-python",
   "name": "python",
   "nbconvert_exporter": "python",
   "pygments_lexer": "ipython3",
   "version": "3.6.0"
  }
 },
 "nbformat": 4,
 "nbformat_minor": 2
}
