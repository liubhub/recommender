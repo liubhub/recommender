{
 "cells": [
  {
   "cell_type": "code",
   "execution_count": 1,
   "metadata": {
    "collapsed": true
   },
   "outputs": [],
   "source": [
    "import math\n",
    "import numpy as np\n",
    "import preprocess as pr\n",
    "from numpy import linalg\n",
    "import warnings\n",
    "from sklearn.cluster import KMeans\n",
    "\n",
    "M = pr.M\n",
    "M_test = pr.M_test\n",
    "all_users = pr.all_users\n",
    "all_movies = len(M[0])\n",
    "\n",
    "min_rating = 0\n",
    "max_rating = 5"
   ]
  },
  {
   "cell_type": "code",
   "execution_count": 30,
   "metadata": {
    "collapsed": true
   },
   "outputs": [],
   "source": [
    "eps = 0.1\n",
    "all_users = 943\n",
    "m = M[:all_users]\n",
    "mTr = np.transpose(m)\n",
    "indexes = np.arange(all_users)\n",
    "K = 2"
   ]
  },
  {
   "cell_type": "code",
   "execution_count": 34,
   "metadata": {
    "collapsed": false
   },
   "outputs": [],
   "source": [
    "def kmeans(K, X):\n",
    "    kmeans = KMeans(n_clusters = K, init = 'k-means++', n_init = 100,\\\n",
    "                    #random_state = \"3\", \\\n",
    "                    algorithm = 'full',precompute_distances=True, max_iter = 1000).fit(X)\n",
    "    labels = kmeans.labels_\n",
    "    centroids = kmeans.cluster_centers_\n",
    "    return labels, centroids"
   ]
  },
  {
   "cell_type": "code",
   "execution_count": 35,
   "metadata": {
    "collapsed": false
   },
   "outputs": [],
   "source": [
    "model = kmeans(45,m)"
   ]
  },
  {
   "cell_type": "code",
   "execution_count": 41,
   "metadata": {
    "collapsed": false
   },
   "outputs": [],
   "source": [
    "cl = forming_clusters(model[0], model[1], 45)"
   ]
  },
  {
   "cell_type": "code",
   "execution_count": 46,
   "metadata": {
    "collapsed": false
   },
   "outputs": [
    {
     "name": "stdout",
     "output_type": "stream",
     "text": [
      "4\n",
      "23\n",
      "61\n",
      "7\n",
      "15\n",
      "16\n",
      "240\n",
      "10\n",
      "1\n",
      "1\n",
      "1\n",
      "129\n",
      "1\n",
      "1\n",
      "29\n",
      "8\n",
      "114\n",
      "2\n",
      "1\n",
      "2\n",
      "37\n",
      "1\n",
      "1\n",
      "1\n",
      "1\n",
      "2\n",
      "2\n",
      "28\n",
      "1\n",
      "1\n",
      "1\n",
      "157\n",
      "1\n",
      "1\n",
      "2\n",
      "1\n",
      "1\n",
      "28\n",
      "1\n",
      "1\n",
      "1\n",
      "1\n",
      "3\n",
      "1\n",
      "2\n"
     ]
    }
   ],
   "source": [
    "for i in range(45):\n",
    "    print(len(cl[i][0]))"
   ]
  },
  {
   "cell_type": "code",
   "execution_count": null,
   "metadata": {
    "collapsed": true
   },
   "outputs": [],
   "source": [
    "model = kmeans(K, m)\n",
    "first_splitted = forming_clusters(model[0], model[1], K)\n",
    "sse_arr = sse(first_splitted)"
   ]
  },
  {
   "cell_type": "code",
   "execution_count": 4,
   "metadata": {
    "collapsed": false
   },
   "outputs": [],
   "source": [
    "def forming_clusters(labels, centroids, K):\n",
    "    i = 0\n",
    "    clusters = []\n",
    "    while i < K:\n",
    "        cluster = [j for j in range(len(labels)) if labels[j] == i]\n",
    "        clusters.append((cluster,centroids[i]))\n",
    "         \n",
    "        i += 1\n",
    "    return clusters   "
   ]
  },
  {
   "cell_type": "code",
   "execution_count": 5,
   "metadata": {
    "collapsed": false
   },
   "outputs": [],
   "source": [
    "def sse(clusters):\n",
    "    sse_arr = []\n",
    "    for item in clusters:\n",
    "        cluster = item[0]\n",
    "        centroid = item[1]\n",
    "        s = 0\n",
    "        for i in cluster:\n",
    "            user = m[i]\n",
    "            s += np.sum(np.power(np.asarray(user) - centroid, 2))\n",
    "        sse_arr.append(s)\n",
    "        \n",
    "    return sse_arr"
   ]
  },
  {
   "cell_type": "code",
   "execution_count": 6,
   "metadata": {
    "collapsed": false
   },
   "outputs": [],
   "source": [
    "def bisecting(cluster_to_split, sse_arr, min_K):\n",
    "    k = 0\n",
    "    main_cluster_arr = []\n",
    "    while k < min_K:\n",
    "        # сами значения\n",
    "        users = [m[i] for i in cluster_to_split]\n",
    "\n",
    "        new_model = kmeans(K, users)\n",
    "        curr_2_clusters = forming_clusters(new_model[0], new_model[1], K)\n",
    "        sse_arr = sse(curr_2_clusters)\n",
    "         \n",
    "        main_cluster_arr.append(curr_2_clusters)\n",
    "        main_sse.append(sse_arr)\n",
    "        \n",
    "#         # следующим к разбиению на 2 кластера будет тот, у которого больше sse\n",
    "        max_sse = [i for i in range(len(sse_arr)) if sse_arr[i] == max(sse_arr)][0] # в число\n",
    "        cluster_to_split = curr_2_clusters[max_sse][0] # нужны элементы кластера, [1] - это уже центроиды\n",
    "#         print(cluster_to_split)\n",
    "#         # тк  cluster_to_split хранит только id пользователей, нужно достать \n",
    "        #print(max_sse)\n",
    "        k += 1\n",
    "    \n",
    "    return main_cluster_arr"
   ]
  },
  {
   "cell_type": "code",
   "execution_count": 135,
   "metadata": {
    "collapsed": true
   },
   "outputs": [],
   "source": [
    "model = kmeans(K, m)\n",
    "first_splitted = forming_clusters(model[0], model[1], K)\n",
    "sse_arr = sse(first_splitted)"
   ]
  },
  {
   "cell_type": "code",
   "execution_count": 171,
   "metadata": {
    "collapsed": true
   },
   "outputs": [
    {
     "data": {
      "text/plain": [
       "[[([1,\n",
       "    2,\n",
       "    3,\n",
       "    5,\n",
       "    6,\n",
       "    9,\n",
       "    11,\n",
       "    18,\n",
       "    20,\n",
       "    21,\n",
       "    22,\n",
       "    25,\n",
       "    29,\n",
       "    34,\n",
       "    35,\n",
       "    41,\n",
       "    43,\n",
       "    44,\n",
       "    47,\n",
       "    49,\n",
       "    50,\n",
       "    51,\n",
       "    56,\n",
       "    57,\n",
       "    58,\n",
       "    62,\n",
       "    67,\n",
       "    68,\n",
       "    69,\n",
       "    71,\n",
       "    72,\n",
       "    75,\n",
       "    78,\n",
       "    80,\n",
       "    87,\n",
       "    90,\n",
       "    91,\n",
       "    93,\n",
       "    95,\n",
       "    97,\n",
       "    100,\n",
       "    105,\n",
       "    110,\n",
       "    111,\n",
       "    113,\n",
       "    120,\n",
       "    121,\n",
       "    124,\n",
       "    126,\n",
       "    130,\n",
       "    133,\n",
       "    135,\n",
       "    137,\n",
       "    141,\n",
       "    145,\n",
       "    149,\n",
       "    156,\n",
       "    158,\n",
       "    161,\n",
       "    162,\n",
       "    164,\n",
       "    166,\n",
       "    168,\n",
       "    171,\n",
       "    173,\n",
       "    174,\n",
       "    175,\n",
       "    177,\n",
       "    182,\n",
       "    188,\n",
       "    189,\n",
       "    193,\n",
       "    194,\n",
       "    196,\n",
       "    199,\n",
       "    214,\n",
       "    215,\n",
       "    217,\n",
       "    219,\n",
       "    221,\n",
       "    223,\n",
       "    228,\n",
       "    229,\n",
       "    230,\n",
       "    234,\n",
       "    238,\n",
       "    239,\n",
       "    245,\n",
       "    247,\n",
       "    253,\n",
       "    255],\n",
       "   array([  1.81318681e+00,   4.17582418e-01,   4.39560440e-01, ...,\n",
       "            0.00000000e+00,   1.73472348e-17,   1.73472348e-17])),\n",
       "  ([0,\n",
       "    4,\n",
       "    7,\n",
       "    8,\n",
       "    10,\n",
       "    12,\n",
       "    13,\n",
       "    14,\n",
       "    15,\n",
       "    16,\n",
       "    17,\n",
       "    19,\n",
       "    23,\n",
       "    24,\n",
       "    26,\n",
       "    27,\n",
       "    28,\n",
       "    30,\n",
       "    31,\n",
       "    32,\n",
       "    33,\n",
       "    36,\n",
       "    37,\n",
       "    38,\n",
       "    39,\n",
       "    40,\n",
       "    42,\n",
       "    45,\n",
       "    46,\n",
       "    48,\n",
       "    52,\n",
       "    53,\n",
       "    54,\n",
       "    55,\n",
       "    59,\n",
       "    60,\n",
       "    61,\n",
       "    63,\n",
       "    64,\n",
       "    65,\n",
       "    66,\n",
       "    70,\n",
       "    73,\n",
       "    74,\n",
       "    76,\n",
       "    77,\n",
       "    79,\n",
       "    81,\n",
       "    82,\n",
       "    83,\n",
       "    84,\n",
       "    85,\n",
       "    86,\n",
       "    88,\n",
       "    89,\n",
       "    92,\n",
       "    94,\n",
       "    96,\n",
       "    98,\n",
       "    99,\n",
       "    101,\n",
       "    102,\n",
       "    103,\n",
       "    104,\n",
       "    106,\n",
       "    107,\n",
       "    108,\n",
       "    109,\n",
       "    112,\n",
       "    114,\n",
       "    115,\n",
       "    116,\n",
       "    117,\n",
       "    118,\n",
       "    119,\n",
       "    122,\n",
       "    123,\n",
       "    125,\n",
       "    127,\n",
       "    128,\n",
       "    129,\n",
       "    131,\n",
       "    132,\n",
       "    134,\n",
       "    136,\n",
       "    138,\n",
       "    139,\n",
       "    140,\n",
       "    142,\n",
       "    143,\n",
       "    144,\n",
       "    146,\n",
       "    147,\n",
       "    148,\n",
       "    150,\n",
       "    151,\n",
       "    152,\n",
       "    153,\n",
       "    154,\n",
       "    155,\n",
       "    157,\n",
       "    159,\n",
       "    160,\n",
       "    163,\n",
       "    165,\n",
       "    167,\n",
       "    169,\n",
       "    170,\n",
       "    172,\n",
       "    176,\n",
       "    178,\n",
       "    179,\n",
       "    180,\n",
       "    181,\n",
       "    183,\n",
       "    184,\n",
       "    185,\n",
       "    186,\n",
       "    187,\n",
       "    190,\n",
       "    191,\n",
       "    192,\n",
       "    195,\n",
       "    197,\n",
       "    198,\n",
       "    200,\n",
       "    201,\n",
       "    202,\n",
       "    203,\n",
       "    204,\n",
       "    205,\n",
       "    206,\n",
       "    207,\n",
       "    208,\n",
       "    209,\n",
       "    210,\n",
       "    211,\n",
       "    212,\n",
       "    213,\n",
       "    216,\n",
       "    218,\n",
       "    220,\n",
       "    222,\n",
       "    224,\n",
       "    225,\n",
       "    226,\n",
       "    227,\n",
       "    231,\n",
       "    232,\n",
       "    233,\n",
       "    235,\n",
       "    236,\n",
       "    237,\n",
       "    240,\n",
       "    241,\n",
       "    242,\n",
       "    243,\n",
       "    244,\n",
       "    246,\n",
       "    248,\n",
       "    249,\n",
       "    250,\n",
       "    251,\n",
       "    252,\n",
       "    254,\n",
       "    256],\n",
       "   array([ 3.0060241 ,  1.4939759 ,  0.62048193, ...,  0.        ,\n",
       "           0.01807229,  0.01807229]))],\n",
       " [([0,\n",
       "    4,\n",
       "    5,\n",
       "    8,\n",
       "    10,\n",
       "    26,\n",
       "    33,\n",
       "    34,\n",
       "    36,\n",
       "    37,\n",
       "    38,\n",
       "    47,\n",
       "    50,\n",
       "    52,\n",
       "    54,\n",
       "    56,\n",
       "    66,\n",
       "    73,\n",
       "    78,\n",
       "    80,\n",
       "    89,\n",
       "    90,\n",
       "    94,\n",
       "    95,\n",
       "    100,\n",
       "    109,\n",
       "    114,\n",
       "    123,\n",
       "    125,\n",
       "    131,\n",
       "    134,\n",
       "    137,\n",
       "    138,\n",
       "    148,\n",
       "    149,\n",
       "    150,\n",
       "    156,\n",
       "    159],\n",
       "   array([ 1.57894737,  0.31578947,  0.39473684, ...,  0.        ,\n",
       "           0.        ,  0.        ])),\n",
       "  ([1,\n",
       "    2,\n",
       "    3,\n",
       "    6,\n",
       "    7,\n",
       "    9,\n",
       "    11,\n",
       "    12,\n",
       "    13,\n",
       "    14,\n",
       "    15,\n",
       "    16,\n",
       "    17,\n",
       "    18,\n",
       "    19,\n",
       "    20,\n",
       "    21,\n",
       "    22,\n",
       "    23,\n",
       "    24,\n",
       "    25,\n",
       "    27,\n",
       "    28,\n",
       "    29,\n",
       "    30,\n",
       "    31,\n",
       "    32,\n",
       "    35,\n",
       "    39,\n",
       "    40,\n",
       "    41,\n",
       "    42,\n",
       "    43,\n",
       "    44,\n",
       "    45,\n",
       "    46,\n",
       "    48,\n",
       "    49,\n",
       "    51,\n",
       "    53,\n",
       "    55,\n",
       "    57,\n",
       "    58,\n",
       "    59,\n",
       "    60,\n",
       "    61,\n",
       "    62,\n",
       "    63,\n",
       "    64,\n",
       "    65,\n",
       "    67,\n",
       "    68,\n",
       "    69,\n",
       "    70,\n",
       "    71,\n",
       "    72,\n",
       "    74,\n",
       "    75,\n",
       "    76,\n",
       "    77,\n",
       "    79,\n",
       "    81,\n",
       "    82,\n",
       "    83,\n",
       "    84,\n",
       "    85,\n",
       "    86,\n",
       "    87,\n",
       "    88,\n",
       "    91,\n",
       "    92,\n",
       "    93,\n",
       "    96,\n",
       "    97,\n",
       "    98,\n",
       "    99,\n",
       "    101,\n",
       "    102,\n",
       "    103,\n",
       "    104,\n",
       "    105,\n",
       "    106,\n",
       "    107,\n",
       "    108,\n",
       "    110,\n",
       "    111,\n",
       "    112,\n",
       "    113,\n",
       "    115,\n",
       "    116,\n",
       "    117,\n",
       "    118,\n",
       "    119,\n",
       "    120,\n",
       "    121,\n",
       "    122,\n",
       "    124,\n",
       "    126,\n",
       "    127,\n",
       "    128,\n",
       "    129,\n",
       "    130,\n",
       "    132,\n",
       "    133,\n",
       "    135,\n",
       "    136,\n",
       "    139,\n",
       "    140,\n",
       "    141,\n",
       "    142,\n",
       "    143,\n",
       "    144,\n",
       "    145,\n",
       "    146,\n",
       "    147,\n",
       "    151,\n",
       "    152,\n",
       "    153,\n",
       "    154,\n",
       "    155,\n",
       "    157,\n",
       "    158,\n",
       "    160,\n",
       "    161,\n",
       "    162,\n",
       "    163,\n",
       "    164,\n",
       "    165],\n",
       "   array([ 0.7734375,  0.078125 ,  0.0234375, ...,  0.       ,  0.       ,  0.       ]))]]"
      ]
     },
     "execution_count": 171,
     "metadata": {},
     "output_type": "execute_result"
    }
   ],
   "source": [
    "bisecting(first_splitted[0][0],sse_arr,K)"
   ]
  },
  {
   "cell_type": "code",
   "execution_count": 24,
   "metadata": {
    "collapsed": false
   },
   "outputs": [],
   "source": [
    "model = kmeans(K, m)\n",
    "first_splitted = forming_clusters(model[0], model[1], K)\n",
    "sse_arr = sse(first_splitted)\n",
    "main_sse = [sse_arr] \n",
    "main_cluster_arr = tuple([[] for i in range(K)])\n",
    "\n",
    "# curr_2_clusters = first_splitted\n",
    "\n",
    "# for i in range(len(curr_2_clusters)):\n",
    "#     cluster = curr_2_clusters[i][0]\n",
    "#     children = bisecting(cluster, sse_arr, K)\n",
    "#     main_cluster_arr[i].append(children)\n",
    "    \n",
    "    \n",
    "# for i in main_cluster_arr:\n",
    "#     print(len(i[0][0]))\n",
    "#     print(len(i[1][0]))"
   ]
  },
  {
   "cell_type": "code",
   "execution_count": 29,
   "metadata": {
    "collapsed": false
   },
   "outputs": [
    {
     "data": {
      "text/plain": [
       "254"
      ]
     },
     "execution_count": 29,
     "metadata": {},
     "output_type": "execute_result"
    }
   ],
   "source": [
    "len(first_splitted[1][0])"
   ]
  },
  {
   "cell_type": "code",
   "execution_count": 179,
   "metadata": {
    "collapsed": false
   },
   "outputs": [
    {
     "data": {
      "text/plain": [
       "2"
      ]
     },
     "execution_count": 179,
     "metadata": {},
     "output_type": "execute_result"
    }
   ],
   "source": [
    "len(main_cluster_arr)"
   ]
  },
  {
   "cell_type": "code",
   "execution_count": 116,
   "metadata": {
    "collapsed": false
   },
   "outputs": [],
   "source": [
    "\n",
    "# len_ = max([len(i[0]) for i in curr_2_clusters]) \n",
    "# cluster_to_split = [i for i in curr_2_clusters  if len(i[0]) == len_][0][0]\n",
    "\n",
    "# main_cluster_arr = [first_splitted] + bisecting(curr_2_clusters,sse_arr,min_K)\n",
    "# main_sse = [sse_arr] + ...\n",
    "left_children =  bisecting(curr_2_clusters,sse_arr,min_K)\n",
    "right_children = bisecting(curr_2_clusters,sse_arr,min_K)\n",
    "#for cluster in first_splitted:"
   ]
  },
  {
   "cell_type": "code",
   "execution_count": 121,
   "metadata": {
    "collapsed": true
   },
   "outputs": [],
   "source": [
    "# users = [m[i] for i in first_splitted[0][0]]\n",
    "# model2 = kmeans(K, users)\n",
    "# first_splitted2 = forming_clusters(model2[0], model2[1], K)\n",
    "# sse_arr2 = sse(first_splitted2)\n",
    "# len(first_splitted2[1][0])"
   ]
  },
  {
   "cell_type": "code",
   "execution_count": 125,
   "metadata": {
    "collapsed": false
   },
   "outputs": [
    {
     "data": {
      "text/plain": [
       "457"
      ]
     },
     "execution_count": 125,
     "metadata": {},
     "output_type": "execute_result"
    }
   ],
   "source": []
  },
  {
   "cell_type": "code",
   "execution_count": null,
   "metadata": {
    "collapsed": true
   },
   "outputs": [],
   "source": []
  },
  {
   "cell_type": "code",
   "execution_count": 184,
   "metadata": {
    "collapsed": false
   },
   "outputs": [
    {
     "name": "stdout",
     "output_type": "stream",
     "text": [
      "2\n"
     ]
    },
    {
     "ename": "IndexError",
     "evalue": "list index out of range",
     "output_type": "error",
     "traceback": [
      "\u001b[0;31m---------------------------------------------------------------------------\u001b[0m",
      "\u001b[0;31mIndexError\u001b[0m                                Traceback (most recent call last)",
      "\u001b[0;32m<ipython-input-184-f9d7bf6532af>\u001b[0m in \u001b[0;36m<module>\u001b[0;34m()\u001b[0m\n\u001b[1;32m      2\u001b[0m     \u001b[0mprint\u001b[0m\u001b[1;33m(\u001b[0m\u001b[0mlen\u001b[0m\u001b[1;33m(\u001b[0m\u001b[0mi\u001b[0m\u001b[1;33m[\u001b[0m\u001b[1;36m0\u001b[0m\u001b[1;33m]\u001b[0m\u001b[1;33m[\u001b[0m\u001b[1;36m0\u001b[0m\u001b[1;33m]\u001b[0m\u001b[1;33m)\u001b[0m\u001b[1;33m)\u001b[0m\u001b[1;33m\u001b[0m\u001b[0m\n\u001b[1;32m      3\u001b[0m \u001b[1;33m\u001b[0m\u001b[0m\n\u001b[0;32m----> 4\u001b[0;31m     \u001b[0mprint\u001b[0m\u001b[1;33m(\u001b[0m\u001b[0mlen\u001b[0m\u001b[1;33m(\u001b[0m\u001b[0mi\u001b[0m\u001b[1;33m[\u001b[0m\u001b[1;36m1\u001b[0m\u001b[1;33m]\u001b[0m\u001b[1;33m[\u001b[0m\u001b[1;36m0\u001b[0m\u001b[1;33m]\u001b[0m\u001b[1;33m)\u001b[0m\u001b[1;33m)\u001b[0m\u001b[1;33m\u001b[0m\u001b[0m\n\u001b[0m",
      "\u001b[0;31mIndexError\u001b[0m: list index out of range"
     ]
    }
   ],
   "source": [
    "for i in main_cluster_arr:\n",
    "    print(len(i[0][0]))\n",
    "    print(len(i[1][0]))"
   ]
  },
  {
   "cell_type": "code",
   "execution_count": 99,
   "metadata": {
    "collapsed": false
   },
   "outputs": [],
   "source": [
    "# MAX LENGTH\n",
    "\n",
    "# model = kmeans(K, m)\n",
    "# first_splitted = forming_clusters(model[0], model[1], K)\n",
    "# sse_arr = sse(first_splitted)\n",
    "# k = 0\n",
    "# min_K = 10\n",
    "# main_cluster_arr = [first_splitted]\n",
    "# main_sse = [sse_arr]\n",
    "# curr_2_clusters = first_splitted\n",
    "# while k < min_K:\n",
    "   \n",
    "#     len_ = max([len(i[0]) for i in curr_2_clusters]) \n",
    "#     cluster_to_split = [i for i in curr_2_clusters  if len(i[0]) == len_][0][0]\n",
    "\n",
    "#     users = [m[i] for i in cluster_to_split]\n",
    "    \n",
    "#     new_model = kmeans(K, users)\n",
    "#     curr_2_clusters = forming_clusters(new_model[0], new_model[1], K)\n",
    "#     sse_arr = sse(curr_2_clusters)\n",
    "    \n",
    "#     main_cluster_arr.append(curr_2_clusters)\n",
    "#     main_sse.append(sse_arr)\n",
    "    \n",
    "#     k += 1\n",
    "# for i in main_cluster_arr:\n",
    "#     print(len(i[0][0]))\n",
    "#     print(len(i[1][0]))"
   ]
  },
  {
   "cell_type": "code",
   "execution_count": 101,
   "metadata": {
    "collapsed": false
   },
   "outputs": [
    {
     "data": {
      "text/plain": [
       "86"
      ]
     },
     "execution_count": 101,
     "metadata": {},
     "output_type": "execute_result"
    }
   ],
   "source": [
    "len(main_cluster_arr[8][1][0])"
   ]
  },
  {
   "cell_type": "code",
   "execution_count": 114,
   "metadata": {
    "collapsed": false
   },
   "outputs": [
    {
     "data": {
      "text/plain": [
       "[3, 4, 5, 6]"
      ]
     },
     "execution_count": 114,
     "metadata": {},
     "output_type": "execute_result"
    }
   ],
   "source": [
    "new_list = [3,4] + [5,6]\n",
    "new_list"
   ]
  },
  {
   "cell_type": "code",
   "execution_count": null,
   "metadata": {
    "collapsed": true
   },
   "outputs": [],
   "source": []
  }
 ],
 "metadata": {
  "kernelspec": {
   "display_name": "Python 3",
   "language": "python",
   "name": "python3"
  },
  "language_info": {
   "codemirror_mode": {
    "name": "ipython",
    "version": 3
   },
   "file_extension": ".py",
   "mimetype": "text/x-python",
   "name": "python",
   "nbconvert_exporter": "python",
   "pygments_lexer": "ipython3",
   "version": "3.6.0"
  }
 },
 "nbformat": 4,
 "nbformat_minor": 2
}
