{
 "cells": [
  {
   "cell_type": "code",
   "execution_count": 1,
   "metadata": {
    "collapsed": true
   },
   "outputs": [],
   "source": [
    "import math\n",
    "import numpy as np\n",
    "import preprocess as pr\n",
    "from numpy import linalg\n",
    "import warnings\n",
    "from sklearn.cluster import KMeans\n",
    "\n",
    "M = pr.M\n",
    "M_test = pr.M_test\n",
    "all_users = pr.all_users\n",
    "all_movies = len(M[0])\n",
    "\n",
    "min_rating = 0\n",
    "max_rating = 5"
   ]
  },
  {
   "cell_type": "code",
   "execution_count": 29,
   "metadata": {
    "collapsed": true
   },
   "outputs": [],
   "source": [
    "eps = 0.1\n",
    "all_users = 943\n",
    "m = M[:all_users]\n",
    "mTr = np.transpose(m)\n",
    "indexes = np.arange(all_users)\n",
    "K = 2"
   ]
  },
  {
   "cell_type": "code",
   "execution_count": 3,
   "metadata": {
    "collapsed": false
   },
   "outputs": [],
   "source": [
    "def kmeans(K, X):\n",
    "    kmeans = KMeans(n_clusters = K, init = 'k-means++', max_iter = 1000).fit(X)\n",
    "    labels = kmeans.labels_\n",
    "    centroids = kmeans.cluster_centers_\n",
    "    return labels, centroids"
   ]
  },
  {
   "cell_type": "code",
   "execution_count": 4,
   "metadata": {
    "collapsed": false
   },
   "outputs": [],
   "source": [
    "def forming_clusters(labels, centroids, K):\n",
    "    i = 0\n",
    "    clusters = []\n",
    "    while i < K:\n",
    "        cluster = [j for j in range(len(labels)) if labels[j] == i]\n",
    "        clusters.append((cluster,centroids[i]))\n",
    "         \n",
    "        i += 1\n",
    "    return clusters   "
   ]
  },
  {
   "cell_type": "code",
   "execution_count": 5,
   "metadata": {
    "collapsed": false
   },
   "outputs": [],
   "source": [
    "def sse(clusters):\n",
    "    sse_arr = []\n",
    "    for item in clusters:\n",
    "        cluster = item[0]\n",
    "        centroid = item[1]\n",
    "        s = 0\n",
    "        for i in cluster:\n",
    "            user = m[i]\n",
    "            s += np.sum(np.power(np.asarray(user) - centroid, 2))\n",
    "        sse_arr.append(s)\n",
    "        \n",
    "    return sse_arr"
   ]
  },
  {
   "cell_type": "code",
   "execution_count": 82,
   "metadata": {
    "collapsed": false
   },
   "outputs": [],
   "source": [
    "model = kmeans(K, m)\n",
    "first_splitted = forming_clusters(model[0], model[1], K)\n",
    "sse_arr = sse(first_splitted)\n",
    "k = 0\n",
    "min_K = 6\n",
    "main_cluster_arr = [first_splitted]\n",
    "main_sse = [sse_arr]\n",
    "curr_2_clusters = first_splitted\n",
    "while k < min_K:\n",
    "    # следующим к разбиению на 2 кластера будет тот, у которого больше sse\n",
    "    max_sse = [i for i in range(len(sse_arr)) if sse_arr[i] == max(sse_arr)][0] # в число\n",
    "    cluster_to_split = curr_2_clusters[max_sse][0] # нужны элементы кластера, [1] - это уже центроиды\n",
    "    # тк  cluster_to_split хранит только id пользователей, нужно достать \n",
    "    # сами значения\n",
    "    users = [m[i] for i in cluster_to_split]\n",
    "    \n",
    "    new_model = kmeans(K, users)\n",
    "    curr_2_clusters = forming_clusters(new_model[0], new_model[1], K)\n",
    "    sse_arr = sse(curr_2_clusters)\n",
    "    \n",
    "    main_cluster_arr.append(curr_2_clusters)\n",
    "    main_sse.append(sse_arr)\n",
    "    \n",
    "    k += 1"
   ]
  },
  {
   "cell_type": "code",
   "execution_count": 83,
   "metadata": {
    "collapsed": false
   },
   "outputs": [
    {
     "name": "stdout",
     "output_type": "stream",
     "text": [
      "686\n",
      "257\n",
      "121\n",
      "136\n",
      "25\n",
      "111\n",
      "15\n",
      "96\n",
      "85\n",
      "11\n",
      "19\n",
      "66\n",
      "9\n",
      "57\n"
     ]
    }
   ],
   "source": [
    "for i in main_cluster_arr:\n",
    "    print(len(i[0][0]))\n",
    "    print(len(i[1][0]))"
   ]
  },
  {
   "cell_type": "code",
   "execution_count": 77,
   "metadata": {
    "collapsed": false
   },
   "outputs": [
    {
     "name": "stdout",
     "output_type": "stream",
     "text": [
      "257\n",
      "686\n"
     ]
    }
   ],
   "source": [
    "for i in first_splitted:\n",
    "    print(len(i[0]))"
   ]
  },
  {
   "cell_type": "code",
   "execution_count": 99,
   "metadata": {
    "collapsed": false
   },
   "outputs": [],
   "source": [
    "# MAX LENGTH\n",
    "\n",
    "# model = kmeans(K, m)\n",
    "# first_splitted = forming_clusters(model[0], model[1], K)\n",
    "# sse_arr = sse(first_splitted)\n",
    "# k = 0\n",
    "# min_K = 10\n",
    "# main_cluster_arr = [first_splitted]\n",
    "# main_sse = [sse_arr]\n",
    "# curr_2_clusters = first_splitted\n",
    "# while k < min_K:\n",
    "   \n",
    "#     len_ = max([len(i[0]) for i in curr_2_clusters]) \n",
    "#     cluster_to_split = [i for i in curr_2_clusters  if len(i[0]) == len_][0][0]\n",
    "\n",
    "#     users = [m[i] for i in cluster_to_split]\n",
    "    \n",
    "#     new_model = kmeans(K, users)\n",
    "#     curr_2_clusters = forming_clusters(new_model[0], new_model[1], K)\n",
    "#     sse_arr = sse(curr_2_clusters)\n",
    "    \n",
    "#     main_cluster_arr.append(curr_2_clusters)\n",
    "#     main_sse.append(sse_arr)\n",
    "    \n",
    "#     k += 1\n",
    "# for i in main_cluster_arr:\n",
    "#     print(len(i[0][0]))\n",
    "#     print(len(i[1][0]))"
   ]
  },
  {
   "cell_type": "code",
   "execution_count": 69,
   "metadata": {
    "collapsed": false
   },
   "outputs": [
    {
     "ename": "IndexError",
     "evalue": "list index out of range",
     "output_type": "error",
     "traceback": [
      "\u001b[0;31m---------------------------------------------------------------------------\u001b[0m",
      "\u001b[0;31mIndexError\u001b[0m                                Traceback (most recent call last)",
      "\u001b[0;32m<ipython-input-69-1d88269a1665>\u001b[0m in \u001b[0;36m<module>\u001b[0;34m()\u001b[0m\n\u001b[0;32m----> 1\u001b[0;31m \u001b[0mlen\u001b[0m\u001b[1;33m(\u001b[0m\u001b[0mmain_cluster_arr\u001b[0m\u001b[1;33m[\u001b[0m\u001b[1;36m9\u001b[0m\u001b[1;33m]\u001b[0m\u001b[1;33m[\u001b[0m\u001b[1;36m1\u001b[0m\u001b[1;33m]\u001b[0m\u001b[1;33m[\u001b[0m\u001b[1;36m0\u001b[0m\u001b[1;33m]\u001b[0m\u001b[1;33m)\u001b[0m\u001b[1;33m\u001b[0m\u001b[0m\n\u001b[0m",
      "\u001b[0;31mIndexError\u001b[0m: list index out of range"
     ]
    }
   ],
   "source": [
    "len(main_cluster_arr[9][1][0])"
   ]
  },
  {
   "cell_type": "code",
   "execution_count": null,
   "metadata": {
    "collapsed": true
   },
   "outputs": [],
   "source": []
  }
 ],
 "metadata": {
  "kernelspec": {
   "display_name": "Python 3",
   "language": "python",
   "name": "python3"
  },
  "language_info": {
   "codemirror_mode": {
    "name": "ipython",
    "version": 3
   },
   "file_extension": ".py",
   "mimetype": "text/x-python",
   "name": "python",
   "nbconvert_exporter": "python",
   "pygments_lexer": "ipython3",
   "version": "3.6.0"
  }
 },
 "nbformat": 4,
 "nbformat_minor": 2
}
