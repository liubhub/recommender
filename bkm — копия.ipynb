{
 "cells": [
  {
   "cell_type": "code",
   "execution_count": 55,
   "metadata": {
    "collapsed": true
   },
   "outputs": [],
   "source": [
    "import numpy as np\n",
    "import math\n",
    "import preprocess as pr\n",
    "\n",
    "M = pr.M\n",
    "M_test = pr.M_test\n",
    "all_users = pr.all_users\n",
    "all_movies = len(M[0])\n",
    "\n",
    "ratings = pr.ratings\n",
    "ratings_test = pr.ratings_test"
   ]
  },
  {
   "cell_type": "code",
   "execution_count": 56,
   "metadata": {
    "collapsed": false
   },
   "outputs": [],
   "source": [
    "all_users = 10\n",
    "\n",
    "m = M[0:all_users:1]\n",
    "# m = M\n",
    "mTr = np.transpose(m)"
   ]
  },
  {
   "cell_type": "code",
   "execution_count": 57,
   "metadata": {
    "collapsed": true
   },
   "outputs": [],
   "source": [
    "def eval_w(indexes):\n",
    "    \n",
    "    w = []\n",
    "    matr = [m[i] for i in indexes]\n",
    "    for i in np.transpose(matr):\n",
    "        temp = np.sum(i) / len(i)\n",
    "        w.append(temp)\n",
    "        \n",
    "    return w"
   ]
  },
  {
   "cell_type": "code",
   "execution_count": 58,
   "metadata": {
    "collapsed": true
   },
   "outputs": [],
   "source": [
    "def centers(w):\n",
    "    cL= np.random.randint(0,5, size=(1,all_movies))[0]\n",
    "    cR = np.asarray(w) - (np.asarray(cL) - np.asarray(w))\n",
    "    return cL, cR"
   ]
  },
  {
   "cell_type": "code",
   "execution_count": 59,
   "metadata": {
    "collapsed": true
   },
   "outputs": [],
   "source": [
    "def divide(indexes, c):\n",
    "    cL = c[0]\n",
    "    cR = c[1]\n",
    "    mL = []\n",
    "    mR = []\n",
    "    normCL = 0\n",
    "    normCR = 0\n",
    "    for index in indexes:\n",
    "        rating = m[index]\n",
    "        for i in range(len(rating)):\n",
    "            tempCL = math.fabs(rating[i] - cL[i])\n",
    "            normCL += tempCL\n",
    "            tempCR = math.fabs(rating[i] - cR[i])\n",
    "            normCR += tempCR\n",
    "        if normCL > normCR:\n",
    "            mR.append(index)\n",
    "            # mR.append((index, rating))\n",
    "        else:\n",
    "            mL.append(index)\n",
    "            # mL.append((index, rating))\n",
    "        normCL = 0\n",
    "        normCR = 0\n",
    "    return (mL, mR)"
   ]
  },
  {
   "cell_type": "code",
   "execution_count": null,
   "metadata": {
    "collapsed": true
   },
   "outputs": [],
   "source": []
  },
  {
   "cell_type": "code",
   "execution_count": 63,
   "metadata": {
    "collapsed": false
   },
   "outputs": [],
   "source": [
    "indexes = [i for i in range(len(m))]\n",
    "main_hash = []\n",
    "main_hash.append(indexes)"
   ]
  },
  {
   "cell_type": "code",
   "execution_count": 64,
   "metadata": {
    "collapsed": true
   },
   "outputs": [],
   "source": [
    "w = eval_w(indexes)\n",
    "c = centers(w)"
   ]
  },
  {
   "cell_type": "code",
   "execution_count": 65,
   "metadata": {
    "collapsed": true
   },
   "outputs": [],
   "source": [
    "tup = divide(indexes,c)"
   ]
  },
  {
   "cell_type": "code",
   "execution_count": 66,
   "metadata": {
    "collapsed": false
   },
   "outputs": [
    {
     "data": {
      "text/plain": [
       "([0, 5, 6, 9], [1, 2, 3, 4, 7, 8])"
      ]
     },
     "execution_count": 66,
     "metadata": {},
     "output_type": "execute_result"
    }
   ],
   "source": [
    "tup"
   ]
  },
  {
   "cell_type": "code",
   "execution_count": null,
   "metadata": {
    "collapsed": true
   },
   "outputs": [],
   "source": [
    "def divide(indexes, c):\n",
    "    cL = c[0]\n",
    "    cR = c[1]\n",
    "    if type(indexes) is not list:\n",
    "        \n",
    "    mL = []\n",
    "    mR = []\n",
    "    normCL = 0\n",
    "    normCR = 0\n",
    "    for index in indexes:\n",
    "        rating = m[index]\n",
    "        for i in range(len(rating)):\n",
    "            tempCL = math.fabs(rating[i] - cL[i])\n",
    "            normCL += tempCL\n",
    "            tempCR = math.fabs(rating[i] - cR[i])\n",
    "            normCR += tempCR\n",
    "        if normCL > normCR:\n",
    "            mR.append(index)\n",
    "            # mR.append((index, rating))\n",
    "        else:\n",
    "            mL.append(index)\n",
    "            # mL.append((index, rating))\n",
    "        normCL = 0\n",
    "        normCR = 0\n",
    "    return (mL, mR)"
   ]
  },
  {
   "cell_type": "code",
   "execution_count": 69,
   "metadata": {
    "collapsed": false
   },
   "outputs": [
    {
     "data": {
      "text/plain": [
       "True"
      ]
     },
     "execution_count": 69,
     "metadata": {},
     "output_type": "execute_result"
    }
   ],
   "source": [
    "type([1,2,3]) is list"
   ]
  },
  {
   "cell_type": "code",
   "execution_count": 62,
   "metadata": {
    "collapsed": false
   },
   "outputs": [
    {
     "ename": "TypeError",
     "evalue": "only length-1 arrays can be converted to Python scalars",
     "output_type": "error",
     "traceback": [
      "\u001b[0;31m---------------------------------------------------------------------------\u001b[0m",
      "\u001b[0;31mTypeError\u001b[0m                                 Traceback (most recent call last)",
      "\u001b[0;32m<ipython-input-62-84aa6a936d33>\u001b[0m in \u001b[0;36m<module>\u001b[0;34m()\u001b[0m\n\u001b[1;32m      1\u001b[0m \u001b[1;32mwhile\u001b[0m \u001b[0mw\u001b[0m \u001b[1;33m!=\u001b[0m \u001b[0mc\u001b[0m\u001b[1;33m:\u001b[0m\u001b[1;33m\u001b[0m\u001b[0m\n\u001b[1;32m      2\u001b[0m \u001b[1;33m\u001b[0m\u001b[0m\n\u001b[0;32m----> 3\u001b[0;31m     \u001b[0mtup\u001b[0m \u001b[1;33m=\u001b[0m \u001b[0mdivide\u001b[0m\u001b[1;33m(\u001b[0m\u001b[0mindexes\u001b[0m\u001b[1;33m,\u001b[0m\u001b[0mc\u001b[0m\u001b[1;33m)\u001b[0m\u001b[1;33m\u001b[0m\u001b[0m\n\u001b[0m\u001b[1;32m      4\u001b[0m     \u001b[0mmain_hash\u001b[0m\u001b[1;33m.\u001b[0m\u001b[0mappend\u001b[0m\u001b[1;33m(\u001b[0m\u001b[0mtup\u001b[0m\u001b[1;33m)\u001b[0m\u001b[1;33m\u001b[0m\u001b[0m\n\u001b[1;32m      5\u001b[0m \u001b[1;33m\u001b[0m\u001b[0m\n",
      "\u001b[0;32m<ipython-input-59-d44ecfd5473d>\u001b[0m in \u001b[0;36mdivide\u001b[0;34m(indexes, c)\u001b[0m\n\u001b[1;32m      9\u001b[0m         \u001b[0mrating\u001b[0m \u001b[1;33m=\u001b[0m \u001b[0mm\u001b[0m\u001b[1;33m[\u001b[0m\u001b[0mindex\u001b[0m\u001b[1;33m]\u001b[0m\u001b[1;33m\u001b[0m\u001b[0m\n\u001b[1;32m     10\u001b[0m         \u001b[1;32mfor\u001b[0m \u001b[0mi\u001b[0m \u001b[1;32min\u001b[0m \u001b[0mrange\u001b[0m\u001b[1;33m(\u001b[0m\u001b[0mlen\u001b[0m\u001b[1;33m(\u001b[0m\u001b[0mrating\u001b[0m\u001b[1;33m)\u001b[0m\u001b[1;33m)\u001b[0m\u001b[1;33m:\u001b[0m\u001b[1;33m\u001b[0m\u001b[0m\n\u001b[0;32m---> 11\u001b[0;31m             \u001b[0mtempCL\u001b[0m \u001b[1;33m=\u001b[0m \u001b[0mmath\u001b[0m\u001b[1;33m.\u001b[0m\u001b[0mfabs\u001b[0m\u001b[1;33m(\u001b[0m\u001b[0mrating\u001b[0m\u001b[1;33m[\u001b[0m\u001b[0mi\u001b[0m\u001b[1;33m]\u001b[0m \u001b[1;33m-\u001b[0m \u001b[0mcL\u001b[0m\u001b[1;33m[\u001b[0m\u001b[0mi\u001b[0m\u001b[1;33m]\u001b[0m\u001b[1;33m)\u001b[0m\u001b[1;33m\u001b[0m\u001b[0m\n\u001b[0m\u001b[1;32m     12\u001b[0m             \u001b[0mnormCL\u001b[0m \u001b[1;33m+=\u001b[0m \u001b[0mtempCL\u001b[0m\u001b[1;33m\u001b[0m\u001b[0m\n\u001b[1;32m     13\u001b[0m             \u001b[0mtempCR\u001b[0m \u001b[1;33m=\u001b[0m \u001b[0mmath\u001b[0m\u001b[1;33m.\u001b[0m\u001b[0mfabs\u001b[0m\u001b[1;33m(\u001b[0m\u001b[0mrating\u001b[0m\u001b[1;33m[\u001b[0m\u001b[0mi\u001b[0m\u001b[1;33m]\u001b[0m \u001b[1;33m-\u001b[0m \u001b[0mcR\u001b[0m\u001b[1;33m[\u001b[0m\u001b[0mi\u001b[0m\u001b[1;33m]\u001b[0m\u001b[1;33m)\u001b[0m\u001b[1;33m\u001b[0m\u001b[0m\n",
      "\u001b[0;31mTypeError\u001b[0m: only length-1 arrays can be converted to Python scalars"
     ]
    }
   ],
   "source": [
    "while w != c:\n",
    "    \n",
    "    tup = divide(indexes,c)\n",
    "    main_hash.append(tup)\n",
    "    \n",
    "    indexLeft = tup[0]\n",
    "    indexRight = tup[1]\n",
    "    \n",
    "    wL = eval_w(indexLeft)\n",
    "    cL = centers(wL)\n",
    "    \n",
    "    wR = eval_w(indexRight)\n",
    "    cR = centers(wR)\n",
    "    \n",
    "    w = (wL,wR)\n",
    "    c = (cL,cR)\n",
    "    indexes = (indexLeft, indexRight)\n",
    "    \n",
    "    print()"
   ]
  },
  {
   "cell_type": "code",
   "execution_count": 53,
   "metadata": {
    "collapsed": true
   },
   "outputs": [],
   "source": [
    "# w = ([1,2,3],[3,2,1])\n",
    "# c = ([1,2,3],[3,2,1])"
   ]
  },
  {
   "cell_type": "code",
   "execution_count": null,
   "metadata": {
    "collapsed": true
   },
   "outputs": [],
   "source": [
    "# def clustering(indexes):\n",
    "    \n",
    "#     w = eval_w(indexes)\n",
    "#     c = centers(w)\n",
    "#     tup = divide(indexes,c)\n",
    "    \n",
    "#     return tup\n",
    "# def bkm(indexes):\n",
    "#     main_hash = []\n",
    "#     main_hash.append(indexes)\n",
    "    \n",
    "#     tup = clustering(indexes)\n",
    "    \n",
    "#     main_hash.append(tup)\n",
    "# matrix = forming_matrix(tup_indexes)\n",
    "# while (wL != cL and wR != cR):\n",
    "    \n",
    "#     tup_indexes = divide(matrix)\n",
    "#     tup_center = eval_w(tup_indexes)\n",
    "    \n",
    "#     wL = tup_center[0]\n",
    "#     wR = tup_center[1]\n",
    "    \n",
    "#     main_hash.append(tup_indexes)\n",
    "        \n",
    "#     matrix = matrix = forming_matrix(tup_indexes)\n",
    "    \n",
    "#     cL = wL\n",
    "#     cR = wR\n",
    "# tup_indexes = divide(m)\n",
    "\n",
    "# main_hash = []\n",
    "\n",
    "# main_hash.append(tup_indexes) \n",
    "\n",
    "# tup_matrices = forming_matrix(tup_indexes)\n",
    "\n",
    "# w = eval_w(tup_indexes)\n",
    "\n",
    "# wL= w[0]\n",
    "# wR = w[1]\n",
    "# def eval_w(tup):\n",
    "    \n",
    "#     mL = tup[0]\n",
    "#     mR = tup[1]\n",
    "    \n",
    "#     wL = []\n",
    "#     wR = []\n",
    "    \n",
    "#     for i in mL:\n",
    "#         wL.append(np.sum(mTr[i]) / len(mTr[i]))\n",
    "        \n",
    "#     for i in mR:\n",
    "#         wR.append(np.sum(mTr[i]) / len(mTr[i]))\n",
    "        \n",
    "#     return (wL,wR)\n",
    "# def divide(matrix):\n",
    "#     mL = []\n",
    "#     mR = []\n",
    "#     normCL = 0\n",
    "#     normCR = 0\n",
    "#     for index in range(len(matrix)):\n",
    "#         rating = matrix[index]\n",
    "#         for i in range(len(rating)):\n",
    "#             tempCL = math.fabs(rating[i] - cL[i])\n",
    "#             normCL += tempCL\n",
    "#             tempCR = math.fabs(rating[i] - cR[i])\n",
    "#             normCR += tempCR\n",
    "#         if normCL > normCR:\n",
    "#             mR.append(index)\n",
    "#             # mR.append((index, rating))\n",
    "#         else:\n",
    "#             mL.append(index)\n",
    "#             # mL.append((index, rating))\n",
    "#         normCL = 0\n",
    "#         normCR = 0\n",
    "#     return(mL, mR)\n",
    "\n",
    "# def forming_matrix(tup_indexes):\n",
    "#     left = tup_indexes[0]\n",
    "#     right = tup_indexes[1]\n",
    "    \n",
    "#     mL = []\n",
    "#     mR = []\n",
    "    \n",
    "#     for i in left:\n",
    "#         mL.append(m[i])\n",
    "#     for j in right\n",
    "#         mR.append(m[j])   \n",
    "#     return (mL, mR)"
   ]
  }
 ],
 "metadata": {
  "kernelspec": {
   "display_name": "Python 3",
   "language": "python",
   "name": "python3"
  },
  "language_info": {
   "codemirror_mode": {
    "name": "ipython",
    "version": 3
   },
   "file_extension": ".py",
   "mimetype": "text/x-python",
   "name": "python",
   "nbconvert_exporter": "python",
   "pygments_lexer": "ipython3",
   "version": "3.6.0"
  }
 },
 "nbformat": 4,
 "nbformat_minor": 2
}
